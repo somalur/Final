{
 "cells": [
  {
   "cell_type": "code",
   "execution_count": 44,
   "metadata": {},
   "outputs": [],
   "source": [
    "import pandas as pd\n",
    "from pandas import datetime\n",
    "import matplotlib.pyplot as plt\n",
    "import numpy as np\n",
    "import seaborn as sns"
   ]
  },
  {
   "cell_type": "code",
   "execution_count": 45,
   "metadata": {},
   "outputs": [],
   "source": [
    "\n",
    "df=pd.read_excel('xproject.xlsx',index_col=0)"
   ]
  },
  {
   "cell_type": "code",
   "execution_count": 46,
   "metadata": {},
   "outputs": [
    {
     "data": {
      "text/html": [
       "<div>\n",
       "<style scoped>\n",
       "    .dataframe tbody tr th:only-of-type {\n",
       "        vertical-align: middle;\n",
       "    }\n",
       "\n",
       "    .dataframe tbody tr th {\n",
       "        vertical-align: top;\n",
       "    }\n",
       "\n",
       "    .dataframe thead th {\n",
       "        text-align: right;\n",
       "    }\n",
       "</style>\n",
       "<table border=\"1\" class=\"dataframe\">\n",
       "  <thead>\n",
       "    <tr style=\"text-align: right;\">\n",
       "      <th></th>\n",
       "      <th>Monthly_ADT</th>\n",
       "    </tr>\n",
       "    <tr>\n",
       "      <th>Count_month</th>\n",
       "      <th></th>\n",
       "    </tr>\n",
       "  </thead>\n",
       "  <tbody>\n",
       "    <tr>\n",
       "      <td>2015-01-01</td>\n",
       "      <td>1123</td>\n",
       "    </tr>\n",
       "    <tr>\n",
       "      <td>2015-02-01</td>\n",
       "      <td>2345</td>\n",
       "    </tr>\n",
       "    <tr>\n",
       "      <td>2015-03-01</td>\n",
       "      <td>4567</td>\n",
       "    </tr>\n",
       "    <tr>\n",
       "      <td>2015-04-01</td>\n",
       "      <td>1222</td>\n",
       "    </tr>\n",
       "    <tr>\n",
       "      <td>2015-05-01</td>\n",
       "      <td>3014</td>\n",
       "    </tr>\n",
       "    <tr>\n",
       "      <td>2015-06-01</td>\n",
       "      <td>3225</td>\n",
       "    </tr>\n",
       "    <tr>\n",
       "      <td>2015-07-01</td>\n",
       "      <td>1679</td>\n",
       "    </tr>\n",
       "    <tr>\n",
       "      <td>2015-08-01</td>\n",
       "      <td>3678</td>\n",
       "    </tr>\n",
       "    <tr>\n",
       "      <td>2015-09-01</td>\n",
       "      <td>1666</td>\n",
       "    </tr>\n",
       "    <tr>\n",
       "      <td>2015-10-01</td>\n",
       "      <td>1298</td>\n",
       "    </tr>\n",
       "    <tr>\n",
       "      <td>2015-11-01</td>\n",
       "      <td>2399</td>\n",
       "    </tr>\n",
       "    <tr>\n",
       "      <td>2015-12-01</td>\n",
       "      <td>2380</td>\n",
       "    </tr>\n",
       "    <tr>\n",
       "      <td>2016-01-01</td>\n",
       "      <td>1954</td>\n",
       "    </tr>\n",
       "    <tr>\n",
       "      <td>2016-02-01</td>\n",
       "      <td>2077</td>\n",
       "    </tr>\n",
       "    <tr>\n",
       "      <td>2016-03-03</td>\n",
       "      <td>2100</td>\n",
       "    </tr>\n",
       "    <tr>\n",
       "      <td>2016-04-01</td>\n",
       "      <td>1503</td>\n",
       "    </tr>\n",
       "    <tr>\n",
       "      <td>2016-05-01</td>\n",
       "      <td>2011</td>\n",
       "    </tr>\n",
       "    <tr>\n",
       "      <td>2016-06-01</td>\n",
       "      <td>1117</td>\n",
       "    </tr>\n",
       "    <tr>\n",
       "      <td>2016-07-01</td>\n",
       "      <td>2200</td>\n",
       "    </tr>\n",
       "    <tr>\n",
       "      <td>2016-08-01</td>\n",
       "      <td>2022</td>\n",
       "    </tr>\n",
       "    <tr>\n",
       "      <td>2016-09-01</td>\n",
       "      <td>1700</td>\n",
       "    </tr>\n",
       "    <tr>\n",
       "      <td>2016-10-01</td>\n",
       "      <td>2800</td>\n",
       "    </tr>\n",
       "    <tr>\n",
       "      <td>2016-11-01</td>\n",
       "      <td>2931</td>\n",
       "    </tr>\n",
       "    <tr>\n",
       "      <td>2016-12-01</td>\n",
       "      <td>3023</td>\n",
       "    </tr>\n",
       "    <tr>\n",
       "      <td>2017-01-01</td>\n",
       "      <td>2056</td>\n",
       "    </tr>\n",
       "    <tr>\n",
       "      <td>2017-02-01</td>\n",
       "      <td>2008</td>\n",
       "    </tr>\n",
       "    <tr>\n",
       "      <td>2017-03-01</td>\n",
       "      <td>1399</td>\n",
       "    </tr>\n",
       "    <tr>\n",
       "      <td>2017-04-01</td>\n",
       "      <td>2027</td>\n",
       "    </tr>\n",
       "    <tr>\n",
       "      <td>2017-05-01</td>\n",
       "      <td>1200</td>\n",
       "    </tr>\n",
       "    <tr>\n",
       "      <td>2017-06-01</td>\n",
       "      <td>1199</td>\n",
       "    </tr>\n",
       "    <tr>\n",
       "      <td>2017-07-01</td>\n",
       "      <td>3002</td>\n",
       "    </tr>\n",
       "    <tr>\n",
       "      <td>2017-08-01</td>\n",
       "      <td>2023</td>\n",
       "    </tr>\n",
       "    <tr>\n",
       "      <td>2017-09-01</td>\n",
       "      <td>2065</td>\n",
       "    </tr>\n",
       "    <tr>\n",
       "      <td>2017-10-01</td>\n",
       "      <td>3045</td>\n",
       "    </tr>\n",
       "    <tr>\n",
       "      <td>2017-11-01</td>\n",
       "      <td>2188</td>\n",
       "    </tr>\n",
       "    <tr>\n",
       "      <td>2017-12-01</td>\n",
       "      <td>1920</td>\n",
       "    </tr>\n",
       "  </tbody>\n",
       "</table>\n",
       "</div>"
      ],
      "text/plain": [
       "             Monthly_ADT\n",
       "Count_month             \n",
       "2015-01-01          1123\n",
       "2015-02-01          2345\n",
       "2015-03-01          4567\n",
       "2015-04-01          1222\n",
       "2015-05-01          3014\n",
       "2015-06-01          3225\n",
       "2015-07-01          1679\n",
       "2015-08-01          3678\n",
       "2015-09-01          1666\n",
       "2015-10-01          1298\n",
       "2015-11-01          2399\n",
       "2015-12-01          2380\n",
       "2016-01-01          1954\n",
       "2016-02-01          2077\n",
       "2016-03-03          2100\n",
       "2016-04-01          1503\n",
       "2016-05-01          2011\n",
       "2016-06-01          1117\n",
       "2016-07-01          2200\n",
       "2016-08-01          2022\n",
       "2016-09-01          1700\n",
       "2016-10-01          2800\n",
       "2016-11-01          2931\n",
       "2016-12-01          3023\n",
       "2017-01-01          2056\n",
       "2017-02-01          2008\n",
       "2017-03-01          1399\n",
       "2017-04-01          2027\n",
       "2017-05-01          1200\n",
       "2017-06-01          1199\n",
       "2017-07-01          3002\n",
       "2017-08-01          2023\n",
       "2017-09-01          2065\n",
       "2017-10-01          3045\n",
       "2017-11-01          2188\n",
       "2017-12-01          1920"
      ]
     },
     "execution_count": 46,
     "metadata": {},
     "output_type": "execute_result"
    }
   ],
   "source": [
    "df\n"
   ]
  },
  {
   "cell_type": "code",
   "execution_count": 95,
   "metadata": {},
   "outputs": [
    {
     "data": {
      "image/png": "[encoded data removed]",
      "text/plain": [
       "<Figure size 432x288 with 1 Axes>"
      ]
     },
     "metadata": {
      "needs_background": "light"
     },
     "output_type": "display_data"
    }
   ],
   "source": [
    "df.plot()\n",
    "plt.xlim('2012-05-25', '2019-10-15')\n",
    "plt.ylabel('Monthly 7 Day ADT');\n"
   ]
  },
  {
   "cell_type": "code",
   "execution_count": 48,
   "metadata": {},
   "outputs": [
    {
     "data": {
      "image/png": "[encoded data removed]",
      "text/plain": [
       "<Figure size 432x288 with 1 Axes>"
      ]
     },
     "execution_count": 48,
     "metadata": {},
     "output_type": "execute_result"
    },
    {
     "data": {
      "image/png": "[encoded data removed]",
      "text/plain": [
       "<Figure size 432x288 with 1 Axes>"
      ]
     },
     "metadata": {
      "needs_background": "light"
     },
     "output_type": "display_data"
    }
   ],
   "source": [
    "from statsmodels.graphics.tsaplots import plot_acf\n",
    "plot_acf(df)"
   ]
  },
  {
   "cell_type": "markdown",
   "metadata": {},
   "source": [
    "# Graphs"
   ]
  },
  {
   "cell_type": "code",
   "execution_count": 49,
   "metadata": {},
   "outputs": [],
   "source": [
    "sentiment_short = df.ix['2015':'2018']"
   ]
  },
  {
   "cell_type": "markdown",
   "metadata": {},
   "source": [
    "# Stationary Determination and Conversion"
   ]
  },
  {
   "cell_type": "code",
   "execution_count": 51,
   "metadata": {},
   "outputs": [
    {
     "data": {
      "text/html": [
       "<div>\n",
       "<style scoped>\n",
       "    .dataframe tbody tr th:only-of-type {\n",
       "        vertical-align: middle;\n",
       "    }\n",
       "\n",
       "    .dataframe tbody tr th {\n",
       "        vertical-align: top;\n",
       "    }\n",
       "\n",
       "    .dataframe thead th {\n",
       "        text-align: right;\n",
       "    }\n",
       "</style>\n",
       "<table border=\"1\" class=\"dataframe\">\n",
       "  <thead>\n",
       "    <tr style=\"text-align: right;\">\n",
       "      <th></th>\n",
       "      <th>Monthly_ADT</th>\n",
       "    </tr>\n",
       "    <tr>\n",
       "      <th>Count_month</th>\n",
       "      <th></th>\n",
       "    </tr>\n",
       "  </thead>\n",
       "  <tbody>\n",
       "    <tr>\n",
       "      <td>2015-01-01</td>\n",
       "      <td>1123</td>\n",
       "    </tr>\n",
       "    <tr>\n",
       "      <td>2015-02-01</td>\n",
       "      <td>2345</td>\n",
       "    </tr>\n",
       "    <tr>\n",
       "      <td>2015-03-01</td>\n",
       "      <td>4567</td>\n",
       "    </tr>\n",
       "    <tr>\n",
       "      <td>2015-04-01</td>\n",
       "      <td>1222</td>\n",
       "    </tr>\n",
       "    <tr>\n",
       "      <td>2015-05-01</td>\n",
       "      <td>3014</td>\n",
       "    </tr>\n",
       "  </tbody>\n",
       "</table>\n",
       "</div>"
      ],
      "text/plain": [
       "             Monthly_ADT\n",
       "Count_month             \n",
       "2015-01-01          1123\n",
       "2015-02-01          2345\n",
       "2015-03-01          4567\n",
       "2015-04-01          1222\n",
       "2015-05-01          3014"
      ]
     },
     "execution_count": 51,
     "metadata": {},
     "output_type": "execute_result"
    }
   ],
   "source": [
    "df.head()"
   ]
  },
  {
   "cell_type": "markdown",
   "metadata": {},
   "source": [
    "# Differencing"
   ]
  },
  {
   "cell_type": "code",
   "execution_count": 52,
   "metadata": {},
   "outputs": [],
   "source": [
    "df_diff=df.diff(periods=1)"
   ]
  },
  {
   "cell_type": "code",
   "execution_count": 53,
   "metadata": {},
   "outputs": [
    {
     "data": {
      "text/html": [
       "<div>\n",
       "<style scoped>\n",
       "    .dataframe tbody tr th:only-of-type {\n",
       "        vertical-align: middle;\n",
       "    }\n",
       "\n",
       "    .dataframe tbody tr th {\n",
       "        vertical-align: top;\n",
       "    }\n",
       "\n",
       "    .dataframe thead th {\n",
       "        text-align: right;\n",
       "    }\n",
       "</style>\n",
       "<table border=\"1\" class=\"dataframe\">\n",
       "  <thead>\n",
       "    <tr style=\"text-align: right;\">\n",
       "      <th></th>\n",
       "      <th>Monthly_ADT</th>\n",
       "    </tr>\n",
       "    <tr>\n",
       "      <th>Count_month</th>\n",
       "      <th></th>\n",
       "    </tr>\n",
       "  </thead>\n",
       "  <tbody>\n",
       "    <tr>\n",
       "      <td>2015-02-01</td>\n",
       "      <td>1222.0</td>\n",
       "    </tr>\n",
       "    <tr>\n",
       "      <td>2015-03-01</td>\n",
       "      <td>2222.0</td>\n",
       "    </tr>\n",
       "    <tr>\n",
       "      <td>2015-04-01</td>\n",
       "      <td>-3345.0</td>\n",
       "    </tr>\n",
       "    <tr>\n",
       "      <td>2015-05-01</td>\n",
       "      <td>1792.0</td>\n",
       "    </tr>\n",
       "    <tr>\n",
       "      <td>2015-06-01</td>\n",
       "      <td>211.0</td>\n",
       "    </tr>\n",
       "  </tbody>\n",
       "</table>\n",
       "</div>"
      ],
      "text/plain": [
       "             Monthly_ADT\n",
       "Count_month             \n",
       "2015-02-01        1222.0\n",
       "2015-03-01        2222.0\n",
       "2015-04-01       -3345.0\n",
       "2015-05-01        1792.0\n",
       "2015-06-01         211.0"
      ]
     },
     "execution_count": 53,
     "metadata": {},
     "output_type": "execute_result"
    }
   ],
   "source": [
    "df_diff=df_diff[1:]\n",
    "df_diff.head()"
   ]
  },
  {
   "cell_type": "code",
   "execution_count": null,
   "metadata": {},
   "outputs": [],
   "source": []
  },
  {
   "cell_type": "code",
   "execution_count": 54,
   "metadata": {},
   "outputs": [
    {
     "data": {
      "image/png": "[encoded data removed]",
      "text/plain": [
       "<Figure size 432x288 with 1 Axes>"
      ]
     },
     "execution_count": 54,
     "metadata": {},
     "output_type": "execute_result"
    },
    {
     "data": {
      "image/png": "[encoded data removed]",
      "text/plain": [
       "<Figure size 432x288 with 1 Axes>"
      ]
     },
     "metadata": {
      "needs_background": "light"
     },
     "output_type": "display_data"
    }
   ],
   "source": [
    "plot_acf(df_diff)"
   ]
  },
  {
   "cell_type": "code",
   "execution_count": 98,
   "metadata": {},
   "outputs": [
    {
     "data": {
      "image/png": "[encoded data removed]",
      "text/plain": [
       "<Figure size 432x288 with 1 Axes>"
      ]
     },
     "metadata": {
      "needs_background": "light"
     },
     "output_type": "display_data"
    }
   ],
   "source": [
    "df_diff.plot()\n",
    "plt.ylabel('ADT');\n"
   ]
  },
  {
   "cell_type": "markdown",
   "metadata": {},
   "source": [
    "# Train And Test Data\n",
    "31 Train Data and 5 Test Data"
   ]
  },
  {
   "cell_type": "code",
   "execution_count": 69,
   "metadata": {},
   "outputs": [],
   "source": [
    "X=df.values\n",
    "train=X[0:31] #\n",
    "test=X[31:]\n",
    "\n",
    "train_a=df[0:31]\n",
    "test_a=df[31:]"
   ]
  },
  {
   "cell_type": "code",
   "execution_count": 70,
   "metadata": {},
   "outputs": [
    {
     "data": {
      "text/plain": [
       "<matplotlib.legend.Legend at 0x1c19cf1ad0>"
      ]
     },
     "execution_count": 70,
     "metadata": {},
     "output_type": "execute_result"
    },
    {
     "data": {
      "image/png": "[encoded data removed]",
      "text/plain": [
       "<Figure size 864x504 with 1 Axes>"
      ]
     },
     "metadata": {
      "needs_background": "light"
     },
     "output_type": "display_data"
    }
   ],
   "source": [
    "plt.figure(figsize=(12,7))\n",
    "plt.title('Monthly_ADT')\n",
    "plt.xlabel('Dates')\n",
    "plt.ylabel('ADT')\n",
    "plt.plot(df['Monthly_ADT'], 'blue', label='Training Data')\n",
    "plt.plot(test_a['Monthly_ADT'], 'green', label='Testing Data')\n",
    "\n",
    "plt.legend()"
   ]
  },
  {
   "cell_type": "code",
   "execution_count": 71,
   "metadata": {},
   "outputs": [],
   "source": [
    "def smape_kun(y_true, y_pred):\n",
    "    return np.mean((np.abs(y_pred - y_true) * 200/ (np.abs(y_pred) +       np.abs(y_true))))"
   ]
  },
  {
   "cell_type": "code",
   "execution_count": 72,
   "metadata": {},
   "outputs": [],
   "source": [
    "#train_a=train['Monthly_ADT'].values\n",
    "#test_a=test['Monthly_ADT'].values"
   ]
  },
  {
   "cell_type": "markdown",
   "metadata": {},
   "source": [
    "# AR"
   ]
  },
  {
   "cell_type": "code",
   "execution_count": 73,
   "metadata": {},
   "outputs": [],
   "source": [
    "from statsmodels.tsa.ar_model import AR\n",
    "from sklearn.metrics import mean_squared_error\n",
    "model_ar=AR(train)\n",
    "model_ar_fit=model_ar.fit()"
   ]
  },
  {
   "cell_type": "code",
   "execution_count": 74,
   "metadata": {},
   "outputs": [],
   "source": [
    "predictions=model_ar_fit.predict(start=26,end=36)"
   ]
  },
  {
   "cell_type": "code",
   "execution_count": 75,
   "metadata": {},
   "outputs": [
    {
     "data": {
      "text/plain": [
       "array([[2023],\n",
       "       [2065],\n",
       "       [3045],\n",
       "       [2188],\n",
       "       [1920]])"
      ]
     },
     "execution_count": 75,
     "metadata": {},
     "output_type": "execute_result"
    }
   ],
   "source": [
    "test"
   ]
  },
  {
   "cell_type": "code",
   "execution_count": 76,
   "metadata": {
    "scrolled": true
   },
   "outputs": [
    {
     "data": {
      "text/plain": [
       "[<matplotlib.lines.Line2D at 0x1c1b623750>]"
      ]
     },
     "execution_count": 76,
     "metadata": {},
     "output_type": "execute_result"
    },
    {
     "data": {
      "image/png": "[encoded data removed]",
      "text/plain": [
       "<Figure size 432x288 with 1 Axes>"
      ]
     },
     "metadata": {
      "needs_background": "light"
     },
     "output_type": "display_data"
    }
   ],
   "source": [
    "plt.plot(test)\n",
    "plt.plot(predictions,color='red')"
   ]
  },
  {
   "cell_type": "markdown",
   "metadata": {},
   "source": [
    "# Determining Best Values(p,d,q) for ARIMA Model"
   ]
  },
  {
   "cell_type": "code",
   "execution_count": 78,
   "metadata": {},
   "outputs": [
    {
     "name": "stdout",
     "output_type": "stream",
     "text": [
      "(0, 0, 0) 506.72388468300073\n",
      "(0, 0, 1) 508.3544133068814\n",
      "(0, 0, 2) 510.1839853773073\n",
      "(0, 0, 3) 502.2298191344249\n",
      "(0, 0, 4) 504.151349297506\n",
      "(0, 1, 0) 513.9320481069769\n",
      "(0, 1, 1) 495.83588118355385\n",
      "(0, 1, 3) 498.8067460531415\n",
      "(0, 2, 0) 528.4033700841605\n",
      "(0, 2, 1) 503.3159349965076\n",
      "(1, 0, 0) 508.3670267771992\n",
      "(1, 0, 1) 510.35264471109383\n",
      "(1, 1, 0) 507.17156070583655\n",
      "(1, 1, 2) 498.988316196349\n",
      "(1, 2, 0) 514.6393237283609\n",
      "(1, 2, 1) 497.63064233860723\n",
      "(2, 0, 0) 510.2732263290704\n",
      "(2, 0, 1) 505.0226315295176\n",
      "(2, 1, 0) 493.7913689280577\n",
      "(2, 1, 1) 493.97416066668933\n",
      "(2, 1, 2) nan\n",
      "(2, 1, 3) 500.80636328395036\n",
      "(2, 1, 4) 496.710248356573\n",
      "(2, 2, 0) 490.29392743210997\n",
      "(2, 2, 1) 486.0128399730621\n",
      "(3, 0, 0) 507.0947718712773\n",
      "(3, 0, 1) 502.5150201278657\n",
      "(3, 0, 2) nan\n",
      "(3, 1, 0) 494.8408039705775\n",
      "(3, 1, 1) 492.6105033727486\n",
      "(3, 1, 2) nan\n",
      "(3, 1, 3) nan\n",
      "(3, 1, 4) nan\n",
      "(3, 2, 0) 491.5571809505011\n",
      "(3, 2, 1) nan\n",
      "(4, 0, 0) 504.5874124058567\n",
      "(4, 0, 1) 506.3236941223067\n",
      "(4, 0, 2) nan\n",
      "(4, 0, 3) nan\n",
      "(4, 0, 4) nan\n",
      "(4, 1, 0) 495.41141817448676\n",
      "(4, 1, 1) nan\n",
      "(4, 1, 2) 492.6730206642945\n",
      "(4, 1, 3) nan\n",
      "(4, 1, 4) nan\n",
      "(4, 2, 0) 491.11850960424727\n",
      "(4, 2, 1) nan\n"
     ]
    }
   ],
   "source": [
    "import warnings\n",
    "import itertools\n",
    "warnings.filterwarnings('ignore')\n",
    "\n",
    "p=d=q=range(0,5)\n",
    "pdq=(itertools.product(p,d,q))\n",
    "\n",
    "for param in pdq:\n",
    "    try:\n",
    "        model_arima=ARIMA(train,order=param)\n",
    "        model_arima_fit=model_arima.fit()\n",
    "        print(param,model_arima_fit.aic)\n",
    "    except:\n",
    "        continue"
   ]
  },
  {
   "cell_type": "markdown",
   "metadata": {},
   "source": [
    "# ARIMA Model"
   ]
  },
  {
   "cell_type": "code",
   "execution_count": 79,
   "metadata": {},
   "outputs": [],
   "source": [
    "from statsmodels.tsa.arima_model import ARIMA"
   ]
  },
  {
   "cell_type": "code",
   "execution_count": 87,
   "metadata": {},
   "outputs": [
    {
     "name": "stdout",
     "output_type": "stream",
     "text": [
      "predicted=1501.000000, expected=2023.000000\n",
      "predicted=2331.000000, expected=2065.000000\n",
      "predicted=2322.000000, expected=3045.000000\n",
      "predicted=2196.000000, expected=2188.000000\n",
      "predicted=2091.000000, expected=1920.000000\n"
     ]
    },
    {
     "data": {
      "image/png": "[encoded data removed]",
      "text/plain": [
       "<Figure size 432x288 with 1 Axes>"
      ]
     },
     "metadata": {
      "needs_background": "light"
     },
     "output_type": "display_data"
    }
   ],
   "source": [
    "dfObj = pd.DataFrame(columns=['Predicted', 'Actual','Error%'])\n",
    "dfObj1=pd.DataFrame(columns=['Predicted', 'Actual'])\n",
    "history = [x for x in train]\n",
    "predictions = list()\n",
    "for t in range(len(test)):\n",
    "    model = ARIMA(history, order=(3,0,1))\n",
    "    model_fit = model.fit(disp=1)\n",
    "    output = model_fit.forecast()\n",
    "    yhat = output[0]\n",
    "    predictions.append(yhat)\n",
    "    obs = test[t]\n",
    "    history.append(obs)\n",
    "    obs=int(obs)\n",
    "    yhat=int(yhat)\n",
    "    print('predicted=%f, expected=%f' % (yhat, obs))\n",
    "    error=(obs-yhat)/100\n",
    "    #error=int(error)\n",
    "    error=abs(error)\n",
    "    dfObj= dfObj.append({'Predicted': yhat,'Actual': obs,'Error%':error}, ignore_index=True)\n",
    "    dfObj1=dfObj1.append({'Predicted': yhat,'Actual': obs},ignore_index=True)\n",
    "    \n",
    "    \n",
    "    \n",
    "\n",
    "# plot\n",
    "plt.plot(test)\n",
    "plt.plot(predictions, color='red')\n",
    "plt.show()"
   ]
  },
  {
   "cell_type": "markdown",
   "metadata": {},
   "source": [
    "# Error Calculation"
   ]
  },
  {
   "cell_type": "code",
   "execution_count": 89,
   "metadata": {
    "scrolled": true
   },
   "outputs": [
    {
     "data": {
      "text/html": [
       "<div>\n",
       "<style scoped>\n",
       "    .dataframe tbody tr th:only-of-type {\n",
       "        vertical-align: middle;\n",
       "    }\n",
       "\n",
       "    .dataframe tbody tr th {\n",
       "        vertical-align: top;\n",
       "    }\n",
       "\n",
       "    .dataframe thead th {\n",
       "        text-align: right;\n",
       "    }\n",
       "</style>\n",
       "<table border=\"1\" class=\"dataframe\">\n",
       "  <thead>\n",
       "    <tr style=\"text-align: right;\">\n",
       "      <th></th>\n",
       "      <th>Predicted</th>\n",
       "      <th>Actual</th>\n",
       "      <th>Error%</th>\n",
       "    </tr>\n",
       "  </thead>\n",
       "  <tbody>\n",
       "    <tr>\n",
       "      <td>0</td>\n",
       "      <td>1501.0</td>\n",
       "      <td>2023.0</td>\n",
       "      <td>5.22</td>\n",
       "    </tr>\n",
       "    <tr>\n",
       "      <td>1</td>\n",
       "      <td>2331.0</td>\n",
       "      <td>2065.0</td>\n",
       "      <td>2.66</td>\n",
       "    </tr>\n",
       "    <tr>\n",
       "      <td>2</td>\n",
       "      <td>2322.0</td>\n",
       "      <td>3045.0</td>\n",
       "      <td>7.23</td>\n",
       "    </tr>\n",
       "    <tr>\n",
       "      <td>3</td>\n",
       "      <td>2196.0</td>\n",
       "      <td>2188.0</td>\n",
       "      <td>0.08</td>\n",
       "    </tr>\n",
       "    <tr>\n",
       "      <td>4</td>\n",
       "      <td>2091.0</td>\n",
       "      <td>1920.0</td>\n",
       "      <td>1.71</td>\n",
       "    </tr>\n",
       "  </tbody>\n",
       "</table>\n",
       "</div>"
      ],
      "text/plain": [
       "   Predicted  Actual  Error%\n",
       "0     1501.0  2023.0    5.22\n",
       "1     2331.0  2065.0    2.66\n",
       "2     2322.0  3045.0    7.23\n",
       "3     2196.0  2188.0    0.08\n",
       "4     2091.0  1920.0    1.71"
      ]
     },
     "execution_count": 89,
     "metadata": {},
     "output_type": "execute_result"
    }
   ],
   "source": [
    "dfObj"
   ]
  },
  {
   "cell_type": "code",
   "execution_count": 90,
   "metadata": {},
   "outputs": [
    {
     "data": {
      "text/html": [
       "<div>\n",
       "<style scoped>\n",
       "    .dataframe tbody tr th:only-of-type {\n",
       "        vertical-align: middle;\n",
       "    }\n",
       "\n",
       "    .dataframe tbody tr th {\n",
       "        vertical-align: top;\n",
       "    }\n",
       "\n",
       "    .dataframe thead th {\n",
       "        text-align: right;\n",
       "    }\n",
       "</style>\n",
       "<table border=\"1\" class=\"dataframe\">\n",
       "  <thead>\n",
       "    <tr style=\"text-align: right;\">\n",
       "      <th></th>\n",
       "      <th>Predicted</th>\n",
       "      <th>Actual</th>\n",
       "    </tr>\n",
       "  </thead>\n",
       "  <tbody>\n",
       "    <tr>\n",
       "      <td>0</td>\n",
       "      <td>1501</td>\n",
       "      <td>2023</td>\n",
       "    </tr>\n",
       "    <tr>\n",
       "      <td>1</td>\n",
       "      <td>2331</td>\n",
       "      <td>2065</td>\n",
       "    </tr>\n",
       "    <tr>\n",
       "      <td>2</td>\n",
       "      <td>2322</td>\n",
       "      <td>3045</td>\n",
       "    </tr>\n",
       "    <tr>\n",
       "      <td>3</td>\n",
       "      <td>2196</td>\n",
       "      <td>2188</td>\n",
       "    </tr>\n",
       "    <tr>\n",
       "      <td>4</td>\n",
       "      <td>2091</td>\n",
       "      <td>1920</td>\n",
       "    </tr>\n",
       "  </tbody>\n",
       "</table>\n",
       "</div>"
      ],
      "text/plain": [
       "  Predicted Actual\n",
       "0      1501   2023\n",
       "1      2331   2065\n",
       "2      2322   3045\n",
       "3      2196   2188\n",
       "4      2091   1920"
      ]
     },
     "execution_count": 90,
     "metadata": {},
     "output_type": "execute_result"
    }
   ],
   "source": [
    "dfObj1"
   ]
  },
  {
   "cell_type": "code",
   "execution_count": 32,
   "metadata": {},
   "outputs": [
    {
     "data": {
      "text/plain": [
       "Predicted    object\n",
       "Actual       object\n",
       "Error%       object\n",
       "dtype: object"
      ]
     },
     "execution_count": 32,
     "metadata": {},
     "output_type": "execute_result"
    }
   ],
   "source": [
    "dfObj.dtypes"
   ]
  },
  {
   "cell_type": "markdown",
   "metadata": {},
   "source": [
    "# Predicted vs Actual Graph\n"
   ]
  },
  {
   "cell_type": "code",
   "execution_count": 100,
   "metadata": {},
   "outputs": [
    {
     "data": {
      "image/png": "[encoded data removed]",
      "text/plain": [
       "<Figure size 432x288 with 1 Axes>"
      ]
     },
     "metadata": {
      "needs_background": "light"
     },
     "output_type": "display_data"
    }
   ],
   "source": [
    "dfObj1.plot(kind=\"line\")\n",
    "plt.xlabel('Month');\n",
    "plt.ylabel('ADT');"
   ]
  },
  {
   "cell_type": "code",
   "execution_count": null,
   "metadata": {},
   "outputs": [],
   "source": []
  },
  {
   "cell_type": "code",
   "execution_count": 30,
   "metadata": {},
   "outputs": [],
   "source": [
    "from sklearn import metrics\n",
    "import numpy as np"
   ]
  },
  {
   "cell_type": "code",
   "execution_count": 31,
   "metadata": {},
   "outputs": [
    {
     "name": "stdout",
     "output_type": "stream",
     "text": [
      "Mean Absolute Error: 338.0958525264201\n",
      "Mean Squared Error: 178840.396997139\n",
      "Root Mean Squared Error: 422.8952553495239\n"
     ]
    }
   ],
   "source": [
    "print('Mean Absolute Error:', metrics.mean_absolute_error(test, predictions))  \n",
    "print('Mean Squared Error:', metrics.mean_squared_error(test, predictions))  \n",
    "print('Root Mean Squared Error:', np.sqrt(metrics.mean_squared_error(test, predictions)))"
   ]
  },
  {
   "cell_type": "markdown",
   "metadata": {},
   "source": [
    "# Mean Absolute Percentage Error (MAPE) Calculation"
   ]
  },
  {
   "cell_type": "code",
   "execution_count": 32,
   "metadata": {},
   "outputs": [
    {
     "name": "stdout",
     "output_type": "stream",
     "text": [
      "Symmetric mean absolute percentage error: 15.515\n"
     ]
    }
   ],
   "source": [
    "\n",
    "error2 = smape_kun(test, predictions)\n",
    "accuracy=100-error2\n",
    "\n",
    "print('Symmetric mean absolute percentage error: %.3f' % error2)\n"
   ]
  },
  {
   "cell_type": "markdown",
   "metadata": {},
   "source": [
    "# Results"
   ]
  },
  {
   "cell_type": "code",
   "execution_count": 33,
   "metadata": {},
   "outputs": [
    {
     "name": "stdout",
     "output_type": "stream",
     "text": [
      "As the MAPE is 15.515491118239334 the accuracy is 84.48450888176066\n"
     ]
    }
   ],
   "source": [
    "error2=str(error2)\n",
    "accuracy=str(accuracy)\n",
    "print(\"As the MAPE is \" +  error2  + \" the accuracy is \"+ accuracy)"
   ]
  },
  {
   "cell_type": "code",
   "execution_count": null,
   "metadata": {},
   "outputs": [],
   "source": []
  },
  {
   "cell_type": "code",
   "execution_count": null,
   "metadata": {},
   "outputs": [],
   "source": []
  },
  {
   "cell_type": "markdown",
   "metadata": {},
   "source": [
    "# P,D,Q Calculation"
   ]
  },
  {
   "cell_type": "code",
   "execution_count": 34,
   "metadata": {},
   "outputs": [
    {
     "name": "stdout",
     "output_type": "stream",
     "text": [
      "(0, 0, 0) 506.72388468300073\n",
      "(0, 0, 1) 508.3544133068814\n",
      "(0, 0, 2) 510.1839853773073\n",
      "(0, 0, 3) 502.2298191344249\n",
      "(0, 0, 4) 504.151349297506\n",
      "(0, 1, 0) 513.9320481069769\n",
      "(0, 1, 1) 495.83588118355385\n",
      "(0, 1, 3) 498.8067460531415\n",
      "(0, 2, 0) 528.4033700841605\n",
      "(0, 2, 1) 503.3159349965076\n",
      "(1, 0, 0) 508.3670267771992\n",
      "(1, 0, 1) 510.35264471109383\n",
      "(1, 1, 0) 507.17156070583655\n",
      "(1, 1, 2) 498.988316196349\n",
      "(1, 2, 0) 514.6393237283609\n",
      "(1, 2, 1) 497.63064233860723\n",
      "(2, 0, 0) 510.2732263290704\n",
      "(2, 0, 1) 505.0226315295176\n",
      "(2, 1, 0) 493.7913689280577\n",
      "(2, 1, 1) 493.97416066668933\n",
      "(2, 1, 2) nan\n",
      "(2, 1, 3) 500.80636328395036\n",
      "(2, 1, 4) 496.710248356573\n",
      "(2, 2, 0) 490.29392743210997\n",
      "(2, 2, 1) 486.0128399730621\n",
      "(3, 0, 0) 507.0947718712773\n",
      "(3, 0, 1) 502.5150201278657\n",
      "(3, 0, 2) nan\n",
      "(3, 1, 0) 494.8408039705775\n",
      "(3, 1, 1) 492.6105033727486\n",
      "(3, 1, 2) nan\n",
      "(3, 1, 3) nan\n",
      "(3, 1, 4) nan\n",
      "(3, 2, 0) 491.5571809505011\n",
      "(3, 2, 1) nan\n",
      "(4, 0, 0) 504.5874124058567\n",
      "(4, 0, 1) 506.3236941223067\n",
      "(4, 0, 2) nan\n",
      "(4, 0, 3) nan\n",
      "(4, 0, 4) nan\n",
      "(4, 1, 0) 495.41141817448676\n",
      "(4, 1, 1) nan\n",
      "(4, 1, 2) 492.6730206642945\n",
      "(4, 1, 3) nan\n",
      "(4, 1, 4) nan\n",
      "(4, 2, 0) 491.11850960424727\n",
      "(4, 2, 1) nan\n"
     ]
    }
   ],
   "source": [
    "import warnings\n",
    "import itertools\n",
    "warnings.filterwarnings('ignore')\n",
    "\n",
    "p=d=q=range(0,5)\n",
    "pdq=(itertools.product(p,d,q))\n",
    "\n",
    "for param in pdq:\n",
    "    try:\n",
    "        model_arima=ARIMA(train,order=param)\n",
    "        model_arima_fit=model_arima.fit()\n",
    "        print(param,model_arima_fit.aic)\n",
    "    except:\n",
    "        continue"
   ]
  },
  {
   "cell_type": "markdown",
   "metadata": {},
   "source": [
    "# Three Year Analysis\n"
   ]
  },
  {
   "cell_type": "code",
   "execution_count": 38,
   "metadata": {},
   "outputs": [],
   "source": [
    "X=df.values\n",
    "train=X[0:31] #\n",
    "test=X[0:31]\n",
    "\n",
    "train_a=df[0:31]\n",
    "test_a=df[0:31]"
   ]
  },
  {
   "cell_type": "code",
   "execution_count": 39,
   "metadata": {},
   "outputs": [
    {
     "name": "stdout",
     "output_type": "stream",
     "text": [
      "predicted=1501.000000, expected=1123.000000\n",
      "predicted=2149.000000, expected=2345.000000\n",
      "predicted=2602.000000, expected=4567.000000\n",
      "predicted=1849.000000, expected=1222.000000\n",
      "predicted=2116.000000, expected=3014.000000\n",
      "predicted=3289.000000, expected=3225.000000\n",
      "predicted=901.000000, expected=1679.000000\n",
      "predicted=3483.000000, expected=3678.000000\n",
      "predicted=1934.000000, expected=1666.000000\n",
      "predicted=2157.000000, expected=1298.000000\n",
      "predicted=3130.000000, expected=2399.000000\n",
      "predicted=1439.000000, expected=2380.000000\n",
      "predicted=2394.000000, expected=1954.000000\n",
      "predicted=2113.000000, expected=2077.000000\n",
      "predicted=2402.000000, expected=2100.000000\n",
      "predicted=1966.000000, expected=1503.000000\n",
      "predicted=2303.000000, expected=2011.000000\n",
      "predicted=2126.000000, expected=1117.000000\n",
      "predicted=1806.000000, expected=2200.000000\n",
      "predicted=2520.000000, expected=2022.000000\n",
      "predicted=1414.000000, expected=1700.000000\n",
      "predicted=2795.000000, expected=2800.000000\n",
      "predicted=1677.000000, expected=2931.000000\n",
      "predicted=2439.000000, expected=3023.000000\n",
      "predicted=2288.000000, expected=2056.000000\n",
      "predicted=2380.000000, expected=2008.000000\n",
      "predicted=2371.000000, expected=1399.000000\n",
      "predicted=1900.000000, expected=2027.000000\n",
      "predicted=2401.000000, expected=1200.000000\n",
      "predicted=1538.000000, expected=1199.000000\n",
      "predicted=2552.000000, expected=3002.000000\n"
     ]
    },
    {
     "data": {
      "image/png": "[encoded data removed]",
      "text/plain": [
       "<Figure size 432x288 with 1 Axes>"
      ]
     },
     "metadata": {
      "needs_background": "light"
     },
     "output_type": "display_data"
    }
   ],
   "source": [
    "dfObj = pd.DataFrame(columns=['Predicted', 'Actual','Error%'])\n",
    "history = [x for x in train]\n",
    "predictions = list()\n",
    "for t in range(len(test)):\n",
    "    model = ARIMA(history, order=(3,0,1))\n",
    "    model_fit = model.fit(disp=1)\n",
    "    output = model_fit.forecast()\n",
    "    yhat = output[0]\n",
    "    predictions.append(yhat)\n",
    "    obs = test[t]\n",
    "    history.append(obs)\n",
    "    obs=int(obs)\n",
    "    yhat=int(yhat)\n",
    "    print('predicted=%f, expected=%f' % (yhat, obs))\n",
    "    error=(obs-yhat)/100\n",
    "    #error=int(error)\n",
    "    error=abs(error)\n",
    "    dfObj= dfObj.append({'Predicted': yhat,'Actual': obs,'Error%':error}, ignore_index=True)\n",
    "    \n",
    "    \n",
    "    \n",
    "    \n",
    "\n",
    "# plot\n",
    "plt.plot(test)\n",
    "plt.plot(predictions, color='red')\n",
    "plt.show()"
   ]
  },
  {
   "cell_type": "code",
   "execution_count": 40,
   "metadata": {},
   "outputs": [
    {
     "data": {
      "text/html": [
       "<div>\n",
       "<style scoped>\n",
       "    .dataframe tbody tr th:only-of-type {\n",
       "        vertical-align: middle;\n",
       "    }\n",
       "\n",
       "    .dataframe tbody tr th {\n",
       "        vertical-align: top;\n",
       "    }\n",
       "\n",
       "    .dataframe thead th {\n",
       "        text-align: right;\n",
       "    }\n",
       "</style>\n",
       "<table border=\"1\" class=\"dataframe\">\n",
       "  <thead>\n",
       "    <tr style=\"text-align: right;\">\n",
       "      <th></th>\n",
       "      <th>Predicted</th>\n",
       "      <th>Actual</th>\n",
       "      <th>Error%</th>\n",
       "    </tr>\n",
       "  </thead>\n",
       "  <tbody>\n",
       "    <tr>\n",
       "      <td>0</td>\n",
       "      <td>1501.0</td>\n",
       "      <td>1123.0</td>\n",
       "      <td>3.78</td>\n",
       "    </tr>\n",
       "    <tr>\n",
       "      <td>1</td>\n",
       "      <td>2149.0</td>\n",
       "      <td>2345.0</td>\n",
       "      <td>1.96</td>\n",
       "    </tr>\n",
       "    <tr>\n",
       "      <td>2</td>\n",
       "      <td>2602.0</td>\n",
       "      <td>4567.0</td>\n",
       "      <td>19.65</td>\n",
       "    </tr>\n",
       "    <tr>\n",
       "      <td>3</td>\n",
       "      <td>1849.0</td>\n",
       "      <td>1222.0</td>\n",
       "      <td>6.27</td>\n",
       "    </tr>\n",
       "    <tr>\n",
       "      <td>4</td>\n",
       "      <td>2116.0</td>\n",
       "      <td>3014.0</td>\n",
       "      <td>8.98</td>\n",
       "    </tr>\n",
       "    <tr>\n",
       "      <td>5</td>\n",
       "      <td>3289.0</td>\n",
       "      <td>3225.0</td>\n",
       "      <td>0.64</td>\n",
       "    </tr>\n",
       "    <tr>\n",
       "      <td>6</td>\n",
       "      <td>901.0</td>\n",
       "      <td>1679.0</td>\n",
       "      <td>7.78</td>\n",
       "    </tr>\n",
       "    <tr>\n",
       "      <td>7</td>\n",
       "      <td>3483.0</td>\n",
       "      <td>3678.0</td>\n",
       "      <td>1.95</td>\n",
       "    </tr>\n",
       "    <tr>\n",
       "      <td>8</td>\n",
       "      <td>1934.0</td>\n",
       "      <td>1666.0</td>\n",
       "      <td>2.68</td>\n",
       "    </tr>\n",
       "    <tr>\n",
       "      <td>9</td>\n",
       "      <td>2157.0</td>\n",
       "      <td>1298.0</td>\n",
       "      <td>8.59</td>\n",
       "    </tr>\n",
       "    <tr>\n",
       "      <td>10</td>\n",
       "      <td>3130.0</td>\n",
       "      <td>2399.0</td>\n",
       "      <td>7.31</td>\n",
       "    </tr>\n",
       "    <tr>\n",
       "      <td>11</td>\n",
       "      <td>1439.0</td>\n",
       "      <td>2380.0</td>\n",
       "      <td>9.41</td>\n",
       "    </tr>\n",
       "    <tr>\n",
       "      <td>12</td>\n",
       "      <td>2394.0</td>\n",
       "      <td>1954.0</td>\n",
       "      <td>4.40</td>\n",
       "    </tr>\n",
       "    <tr>\n",
       "      <td>13</td>\n",
       "      <td>2113.0</td>\n",
       "      <td>2077.0</td>\n",
       "      <td>0.36</td>\n",
       "    </tr>\n",
       "    <tr>\n",
       "      <td>14</td>\n",
       "      <td>2402.0</td>\n",
       "      <td>2100.0</td>\n",
       "      <td>3.02</td>\n",
       "    </tr>\n",
       "    <tr>\n",
       "      <td>15</td>\n",
       "      <td>1966.0</td>\n",
       "      <td>1503.0</td>\n",
       "      <td>4.63</td>\n",
       "    </tr>\n",
       "    <tr>\n",
       "      <td>16</td>\n",
       "      <td>2303.0</td>\n",
       "      <td>2011.0</td>\n",
       "      <td>2.92</td>\n",
       "    </tr>\n",
       "    <tr>\n",
       "      <td>17</td>\n",
       "      <td>2126.0</td>\n",
       "      <td>1117.0</td>\n",
       "      <td>10.09</td>\n",
       "    </tr>\n",
       "    <tr>\n",
       "      <td>18</td>\n",
       "      <td>1806.0</td>\n",
       "      <td>2200.0</td>\n",
       "      <td>3.94</td>\n",
       "    </tr>\n",
       "    <tr>\n",
       "      <td>19</td>\n",
       "      <td>2520.0</td>\n",
       "      <td>2022.0</td>\n",
       "      <td>4.98</td>\n",
       "    </tr>\n",
       "    <tr>\n",
       "      <td>20</td>\n",
       "      <td>1414.0</td>\n",
       "      <td>1700.0</td>\n",
       "      <td>2.86</td>\n",
       "    </tr>\n",
       "    <tr>\n",
       "      <td>21</td>\n",
       "      <td>2795.0</td>\n",
       "      <td>2800.0</td>\n",
       "      <td>0.05</td>\n",
       "    </tr>\n",
       "    <tr>\n",
       "      <td>22</td>\n",
       "      <td>1677.0</td>\n",
       "      <td>2931.0</td>\n",
       "      <td>12.54</td>\n",
       "    </tr>\n",
       "    <tr>\n",
       "      <td>23</td>\n",
       "      <td>2439.0</td>\n",
       "      <td>3023.0</td>\n",
       "      <td>5.84</td>\n",
       "    </tr>\n",
       "    <tr>\n",
       "      <td>24</td>\n",
       "      <td>2288.0</td>\n",
       "      <td>2056.0</td>\n",
       "      <td>2.32</td>\n",
       "    </tr>\n",
       "    <tr>\n",
       "      <td>25</td>\n",
       "      <td>2380.0</td>\n",
       "      <td>2008.0</td>\n",
       "      <td>3.72</td>\n",
       "    </tr>\n",
       "    <tr>\n",
       "      <td>26</td>\n",
       "      <td>2371.0</td>\n",
       "      <td>1399.0</td>\n",
       "      <td>9.72</td>\n",
       "    </tr>\n",
       "    <tr>\n",
       "      <td>27</td>\n",
       "      <td>1900.0</td>\n",
       "      <td>2027.0</td>\n",
       "      <td>1.27</td>\n",
       "    </tr>\n",
       "    <tr>\n",
       "      <td>28</td>\n",
       "      <td>2401.0</td>\n",
       "      <td>1200.0</td>\n",
       "      <td>12.01</td>\n",
       "    </tr>\n",
       "    <tr>\n",
       "      <td>29</td>\n",
       "      <td>1538.0</td>\n",
       "      <td>1199.0</td>\n",
       "      <td>3.39</td>\n",
       "    </tr>\n",
       "    <tr>\n",
       "      <td>30</td>\n",
       "      <td>2552.0</td>\n",
       "      <td>3002.0</td>\n",
       "      <td>4.50</td>\n",
       "    </tr>\n",
       "  </tbody>\n",
       "</table>\n",
       "</div>"
      ],
      "text/plain": [
       "    Predicted  Actual  Error%\n",
       "0      1501.0  1123.0    3.78\n",
       "1      2149.0  2345.0    1.96\n",
       "2      2602.0  4567.0   19.65\n",
       "3      1849.0  1222.0    6.27\n",
       "4      2116.0  3014.0    8.98\n",
       "5      3289.0  3225.0    0.64\n",
       "6       901.0  1679.0    7.78\n",
       "7      3483.0  3678.0    1.95\n",
       "8      1934.0  1666.0    2.68\n",
       "9      2157.0  1298.0    8.59\n",
       "10     3130.0  2399.0    7.31\n",
       "11     1439.0  2380.0    9.41\n",
       "12     2394.0  1954.0    4.40\n",
       "13     2113.0  2077.0    0.36\n",
       "14     2402.0  2100.0    3.02\n",
       "15     1966.0  1503.0    4.63\n",
       "16     2303.0  2011.0    2.92\n",
       "17     2126.0  1117.0   10.09\n",
       "18     1806.0  2200.0    3.94\n",
       "19     2520.0  2022.0    4.98\n",
       "20     1414.0  1700.0    2.86\n",
       "21     2795.0  2800.0    0.05\n",
       "22     1677.0  2931.0   12.54\n",
       "23     2439.0  3023.0    5.84\n",
       "24     2288.0  2056.0    2.32\n",
       "25     2380.0  2008.0    3.72\n",
       "26     2371.0  1399.0    9.72\n",
       "27     1900.0  2027.0    1.27\n",
       "28     2401.0  1200.0   12.01\n",
       "29     1538.0  1199.0    3.39\n",
       "30     2552.0  3002.0    4.50"
      ]
     },
     "execution_count": 40,
     "metadata": {},
     "output_type": "execute_result"
    }
   ],
   "source": [
    "dfObj"
   ]
  },
  {
   "cell_type": "code",
   "execution_count": 43,
   "metadata": {},
   "outputs": [
    {
     "data": {
      "text/plain": [
       "<matplotlib.axes._subplots.AxesSubplot at 0x1c1a4b6790>"
      ]
     },
     "execution_count": 43,
     "metadata": {},
     "output_type": "execute_result"
    },
    {
     "data": {
      "image/png": "[encoded data removed]",
      "text/plain": [
       "<Figure size 432x288 with 1 Axes>"
      ]
     },
     "metadata": {
      "needs_background": "light"
     },
     "output_type": "display_data"
    }
   ],
   "source": [
    "dfObj.plot(kind=\"line\")"
   ]
  },
  {
   "cell_type": "code",
   "execution_count": null,
   "metadata": {},
   "outputs": [],
   "source": []
  }
 ],
 "metadata": {
  "kernelspec": {
   "display_name": "Python 3",
   "language": "python",
   "name": "python3"
  },
  "language_info": {
   "codemirror_mode": {
    "name": "ipython",
    "version": 3
   },
   "file_extension": ".py",
   "mimetype": "text/x-python",
   "name": "python",
   "nbconvert_exporter": "python",
   "pygments_lexer": "ipython3",
   "version": "3.7.4"
  }
 },
 "nbformat": 4,
 "nbformat_minor": 2
}
