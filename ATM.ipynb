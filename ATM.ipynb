{
 "cells": [
  {
   "cell_type": "code",
   "execution_count": 11,
   "metadata": {},
   "outputs": [],
   "source": [
    "import pandas as pd\n",
    "import numpy as np\n",
    "import seaborn as sns\n",
    "import matplotlib.pyplot as plt\n",
    "import math\n",
    "from tensorflow.keras.preprocessing import sequence\n",
    "from tensorflow.keras.models import Sequential\n",
    "from tensorflow.keras.layers import Dense, Embedding\n",
    "from tensorflow.keras.layers import LSTM\n",
    "from tensorflow.keras.datasets import imdb\n",
    "\n",
    "%matplotlib inline\n"
   ]
  },
  {
   "cell_type": "code",
   "execution_count": null,
   "metadata": {},
   "outputs": [],
   "source": []
  },
  {
   "cell_type": "code",
   "execution_count": null,
   "metadata": {},
   "outputs": [],
   "source": []
  },
  {
   "cell_type": "code",
   "execution_count": 12,
   "metadata": {},
   "outputs": [],
   "source": [
    "import matplotlib\n",
    "\n",
    "matplotlib.rc('figure', figsize=(15,10))"
   ]
  },
  {
   "cell_type": "code",
   "execution_count": 13,
   "metadata": {},
   "outputs": [],
   "source": [
    "df=pd.read_excel('traffic-counts-to-august-2019 (Autosaved).xlsx')"
   ]
  },
  {
   "cell_type": "code",
   "execution_count": 14,
   "metadata": {},
   "outputs": [
    {
     "data": {
      "text/html": [
       "<div>\n",
       "<style scoped>\n",
       "    .dataframe tbody tr th:only-of-type {\n",
       "        vertical-align: middle;\n",
       "    }\n",
       "\n",
       "    .dataframe tbody tr th {\n",
       "        vertical-align: top;\n",
       "    }\n",
       "\n",
       "    .dataframe thead th {\n",
       "        text-align: right;\n",
       "    }\n",
       "</style>\n",
       "<table border=\"1\" class=\"dataframe\">\n",
       "  <thead>\n",
       "    <tr style=\"text-align: right;\">\n",
       "      <th></th>\n",
       "      <th>Area</th>\n",
       "      <th>Road_Name</th>\n",
       "      <th>Carriageway_Start_Name</th>\n",
       "      <th>Carriageway_End_Name</th>\n",
       "      <th>Description</th>\n",
       "      <th>Direction</th>\n",
       "      <th>Count_Start_Date</th>\n",
       "      <th>5_Day_ADT</th>\n",
       "      <th>7_Day_ADT</th>\n",
       "      <th>Saturday_Volume</th>\n",
       "      <th>...</th>\n",
       "      <th>MCV</th>\n",
       "      <th>HCV-I</th>\n",
       "      <th>HCV-II</th>\n",
       "      <th>HCV Total</th>\n",
       "      <th>AM-Non-Peak-Hours</th>\n",
       "      <th>AM-Non-Peak-Hour-Volume</th>\n",
       "      <th>Mid-Day-Non-Peak-Hour-Time</th>\n",
       "      <th>Mid-Day-Non-Peak-Volume</th>\n",
       "      <th>PM-Non-Peak-Hours</th>\n",
       "      <th>PM-Non-Peak-Hour-Volume</th>\n",
       "    </tr>\n",
       "  </thead>\n",
       "  <tbody>\n",
       "    <tr>\n",
       "      <th>0</th>\n",
       "      <td>North</td>\n",
       "      <td>Access Road #2</td>\n",
       "      <td>NaN</td>\n",
       "      <td>NaN</td>\n",
       "      <td>At Bridge 1020m</td>\n",
       "      <td>Both</td>\n",
       "      <td>2012-05-25</td>\n",
       "      <td>1731.2</td>\n",
       "      <td>1603.428571</td>\n",
       "      <td>1352.0</td>\n",
       "      <td>...</td>\n",
       "      <td>0.038876</td>\n",
       "      <td>0.011031</td>\n",
       "      <td>0.002046</td>\n",
       "      <td>0.051953</td>\n",
       "      <td>0900</td>\n",
       "      <td>117.0</td>\n",
       "      <td>1238.0</td>\n",
       "      <td>157</td>\n",
       "      <td>1625.0</td>\n",
       "      <td>188.0</td>\n",
       "    </tr>\n",
       "    <tr>\n",
       "      <th>1</th>\n",
       "      <td>South</td>\n",
       "      <td>Kirkbride Road</td>\n",
       "      <td>Westney Rd</td>\n",
       "      <td>End 750 Massey Rd Moble S</td>\n",
       "      <td>!Kirkbride Rd ((Approx 80m east Westney Rd - o...</td>\n",
       "      <td>Both</td>\n",
       "      <td>2012-07-15</td>\n",
       "      <td>17334.4</td>\n",
       "      <td>15659.857143</td>\n",
       "      <td>12921.0</td>\n",
       "      <td>...</td>\n",
       "      <td>0.043076</td>\n",
       "      <td>0.008812</td>\n",
       "      <td>0.003941</td>\n",
       "      <td>0.055830</td>\n",
       "      <td>0901</td>\n",
       "      <td>86.0</td>\n",
       "      <td>1236.0</td>\n",
       "      <td>105</td>\n",
       "      <td>1619.0</td>\n",
       "      <td>187.0</td>\n",
       "    </tr>\n",
       "    <tr>\n",
       "      <th>2</th>\n",
       "      <td>North</td>\n",
       "      <td>COATESVILLE RIVERHEAD HIGHWAY</td>\n",
       "      <td>RIVERHEAD ROAD</td>\n",
       "      <td>STATE HIGHWAY 16</td>\n",
       "      <td>Coatsville-Riverhead Highway 80kph</td>\n",
       "      <td>Both</td>\n",
       "      <td>2012-07-16</td>\n",
       "      <td>5307.6</td>\n",
       "      <td>5230.857143</td>\n",
       "      <td>5999.0</td>\n",
       "      <td>...</td>\n",
       "      <td>0.026518</td>\n",
       "      <td>0.012290</td>\n",
       "      <td>0.003468</td>\n",
       "      <td>0.042277</td>\n",
       "      <td>0902</td>\n",
       "      <td>105.0</td>\n",
       "      <td>1235.0</td>\n",
       "      <td>152</td>\n",
       "      <td>1622.0</td>\n",
       "      <td>160.0</td>\n",
       "    </tr>\n",
       "    <tr>\n",
       "      <th>3</th>\n",
       "      <td>North</td>\n",
       "      <td>COATESVILLE RIVERHEAD HIGHWAY</td>\n",
       "      <td>STATE HIGHWAY 17</td>\n",
       "      <td>WIDTH CHANGE</td>\n",
       "      <td>C-R H'way 50m S SH17 80kph</td>\n",
       "      <td>Both</td>\n",
       "      <td>2012-07-16</td>\n",
       "      <td>6120.0</td>\n",
       "      <td>5820.571429</td>\n",
       "      <td>5962.0</td>\n",
       "      <td>...</td>\n",
       "      <td>0.029010</td>\n",
       "      <td>0.012615</td>\n",
       "      <td>0.003264</td>\n",
       "      <td>0.044890</td>\n",
       "      <td>0903</td>\n",
       "      <td>92.0</td>\n",
       "      <td>1237.0</td>\n",
       "      <td>128</td>\n",
       "      <td>1630.0</td>\n",
       "      <td>148.0</td>\n",
       "    </tr>\n",
       "    <tr>\n",
       "      <th>4</th>\n",
       "      <td>South</td>\n",
       "      <td>Bader Drive</td>\n",
       "      <td>NaN</td>\n",
       "      <td>NaN</td>\n",
       "      <td>!Bader Dr (Approx 150 east Bader Dr off-ramp o...</td>\n",
       "      <td>Both</td>\n",
       "      <td>2012-07-16</td>\n",
       "      <td>17062.6</td>\n",
       "      <td>16457.714286</td>\n",
       "      <td>18328.0</td>\n",
       "      <td>...</td>\n",
       "      <td>0.017369</td>\n",
       "      <td>0.004245</td>\n",
       "      <td>0.000859</td>\n",
       "      <td>0.022473</td>\n",
       "      <td>0904</td>\n",
       "      <td>113.0</td>\n",
       "      <td>1232.0</td>\n",
       "      <td>113</td>\n",
       "      <td>1616.0</td>\n",
       "      <td>181.0</td>\n",
       "    </tr>\n",
       "  </tbody>\n",
       "</table>\n",
       "<p>5 rows × 29 columns</p>\n",
       "</div>"
      ],
      "text/plain": [
       "    Area                      Road_Name Carriageway_Start_Name  \\\n",
       "0  North                 Access Road #2                    NaN   \n",
       "1  South                 Kirkbride Road             Westney Rd   \n",
       "2  North  COATESVILLE RIVERHEAD HIGHWAY         RIVERHEAD ROAD   \n",
       "3  North  COATESVILLE RIVERHEAD HIGHWAY       STATE HIGHWAY 17   \n",
       "4  South                    Bader Drive                    NaN   \n",
       "\n",
       "        Carriageway_End_Name  \\\n",
       "0                        NaN   \n",
       "1  End 750 Massey Rd Moble S   \n",
       "2           STATE HIGHWAY 16   \n",
       "3               WIDTH CHANGE   \n",
       "4                        NaN   \n",
       "\n",
       "                                         Description Direction  \\\n",
       "0                                    At Bridge 1020m      Both   \n",
       "1  !Kirkbride Rd ((Approx 80m east Westney Rd - o...      Both   \n",
       "2                 Coatsville-Riverhead Highway 80kph      Both   \n",
       "3                         C-R H'way 50m S SH17 80kph      Both   \n",
       "4  !Bader Dr (Approx 150 east Bader Dr off-ramp o...      Both   \n",
       "\n",
       "  Count_Start_Date  5_Day_ADT     7_Day_ADT  Saturday_Volume  \\\n",
       "0       2012-05-25     1731.2   1603.428571           1352.0   \n",
       "1       2012-07-15    17334.4  15659.857143          12921.0   \n",
       "2       2012-07-16     5307.6   5230.857143           5999.0   \n",
       "3       2012-07-16     6120.0   5820.571429           5962.0   \n",
       "4       2012-07-16    17062.6  16457.714286          18328.0   \n",
       "\n",
       "            ...                  MCV     HCV-I    HCV-II  HCV Total  \\\n",
       "0           ...             0.038876  0.011031  0.002046   0.051953   \n",
       "1           ...             0.043076  0.008812  0.003941   0.055830   \n",
       "2           ...             0.026518  0.012290  0.003468   0.042277   \n",
       "3           ...             0.029010  0.012615  0.003264   0.044890   \n",
       "4           ...             0.017369  0.004245  0.000859   0.022473   \n",
       "\n",
       "   AM-Non-Peak-Hours  AM-Non-Peak-Hour-Volume  Mid-Day-Non-Peak-Hour-Time  \\\n",
       "0               0900                    117.0                      1238.0   \n",
       "1               0901                     86.0                      1236.0   \n",
       "2               0902                    105.0                      1235.0   \n",
       "3               0903                     92.0                      1237.0   \n",
       "4               0904                    113.0                      1232.0   \n",
       "\n",
       "   Mid-Day-Non-Peak-Volume  PM-Non-Peak-Hours  PM-Non-Peak-Hour-Volume  \n",
       "0                      157             1625.0                    188.0  \n",
       "1                      105             1619.0                    187.0  \n",
       "2                      152             1622.0                    160.0  \n",
       "3                      128             1630.0                    148.0  \n",
       "4                      113             1616.0                    181.0  \n",
       "\n",
       "[5 rows x 29 columns]"
      ]
     },
     "execution_count": 14,
     "metadata": {},
     "output_type": "execute_result"
    }
   ],
   "source": [
    "df.head()"
   ]
  },
  {
   "cell_type": "code",
   "execution_count": 15,
   "metadata": {},
   "outputs": [
    {
     "data": {
      "text/plain": [
       "0        700.0\n",
       "1        745.0\n",
       "2        745.0\n",
       "3        730.0\n",
       "4        815.0\n",
       "5        815.0\n",
       "6        815.0\n",
       "7        800.0\n",
       "8        800.0\n",
       "9        745.0\n",
       "10       715.0\n",
       "11       800.0\n",
       "12       745.0\n",
       "13       745.0\n",
       "14       800.0\n",
       "15       745.0\n",
       "16       815.0\n",
       "17       730.0\n",
       "18       745.0\n",
       "19       815.0\n",
       "20       815.0\n",
       "21       730.0\n",
       "22       815.0\n",
       "23       800.0\n",
       "24       645.0\n",
       "25       800.0\n",
       "26       745.0\n",
       "27       830.0\n",
       "28       800.0\n",
       "29       800.0\n",
       "         ...  \n",
       "12401    745.0\n",
       "12402    800.0\n",
       "12403    745.0\n",
       "12404    800.0\n",
       "12405    800.0\n",
       "12406    800.0\n",
       "12407    745.0\n",
       "12408    800.0\n",
       "12409    800.0\n",
       "12410    900.0\n",
       "12411    745.0\n",
       "12412    845.0\n",
       "12413    800.0\n",
       "12414    815.0\n",
       "12415    815.0\n",
       "12416    900.0\n",
       "12417    745.0\n",
       "12418    730.0\n",
       "12419    745.0\n",
       "12420    800.0\n",
       "12421    730.0\n",
       "12422    700.0\n",
       "12423    745.0\n",
       "12424    715.0\n",
       "12425    800.0\n",
       "12426    700.0\n",
       "12427    745.0\n",
       "12428    645.0\n",
       "12429    830.0\n",
       "12430    715.0\n",
       "Name: AM_Peak_Hour, Length: 12431, dtype: float64"
      ]
     },
     "execution_count": 15,
     "metadata": {},
     "output_type": "execute_result"
    }
   ],
   "source": [
    "df['AM_Peak_Hour']"
   ]
  },
  {
   "cell_type": "code",
   "execution_count": 16,
   "metadata": {},
   "outputs": [
    {
     "data": {
      "text/plain": [
       "Area                                  object\n",
       "Road_Name                             object\n",
       "Carriageway_Start_Name                object\n",
       "Carriageway_End_Name                  object\n",
       "Description                           object\n",
       "Direction                             object\n",
       "Count_Start_Date              datetime64[ns]\n",
       "5_Day_ADT                            float64\n",
       "7_Day_ADT                            float64\n",
       "Saturday_Volume                      float64\n",
       "Sunday_Volume                        float64\n",
       "AM_Peak_Volume                       float64\n",
       "AM_Peak_Hour                         float64\n",
       "Mid_Peak_Volume                      float64\n",
       "Mid_Peak_Hour                        float64\n",
       "PM_Peak_Volume                       float64\n",
       "PM_Peak_Hour                         float64\n",
       "Car                                  float64\n",
       "LCV                                  float64\n",
       "MCV                                  float64\n",
       "HCV-I                                float64\n",
       "HCV-II                               float64\n",
       "HCV Total                            float64\n",
       "AM-Non-Peak-Hours                     object\n",
       "AM-Non-Peak-Hour-Volume              float64\n",
       "Mid-Day-Non-Peak-Hour-Time           float64\n",
       "Mid-Day-Non-Peak-Volume               object\n",
       "PM-Non-Peak-Hours                    float64\n",
       "PM-Non-Peak-Hour-Volume              float64\n",
       "dtype: object"
      ]
     },
     "execution_count": 16,
     "metadata": {},
     "output_type": "execute_result"
    }
   ],
   "source": [
    "df.dtypes"
   ]
  },
  {
   "cell_type": "code",
   "execution_count": 17,
   "metadata": {},
   "outputs": [],
   "source": [
    "df[\"Count_Start_Date\"].fillna(0, inplace = True) "
   ]
  },
  {
   "cell_type": "code",
   "execution_count": 18,
   "metadata": {},
   "outputs": [],
   "source": [
    "df[\"Count_Start_Date\"]= df[\"Count_Start_Date\"].astype(str) "
   ]
  },
  {
   "cell_type": "code",
   "execution_count": 19,
   "metadata": {},
   "outputs": [],
   "source": [
    "df[\"Count_Start_Date\"]= df[\"Count_Start_Date\"].astype(str) "
   ]
  },
  {
   "cell_type": "code",
   "execution_count": 20,
   "metadata": {},
   "outputs": [
    {
     "data": {
      "text/plain": [
       "Area                           object\n",
       "Road_Name                      object\n",
       "Carriageway_Start_Name         object\n",
       "Carriageway_End_Name           object\n",
       "Description                    object\n",
       "Direction                      object\n",
       "Count_Start_Date               object\n",
       "5_Day_ADT                     float64\n",
       "7_Day_ADT                     float64\n",
       "Saturday_Volume               float64\n",
       "Sunday_Volume                 float64\n",
       "AM_Peak_Volume                float64\n",
       "AM_Peak_Hour                  float64\n",
       "Mid_Peak_Volume               float64\n",
       "Mid_Peak_Hour                 float64\n",
       "PM_Peak_Volume                float64\n",
       "PM_Peak_Hour                  float64\n",
       "Car                           float64\n",
       "LCV                           float64\n",
       "MCV                           float64\n",
       "HCV-I                         float64\n",
       "HCV-II                        float64\n",
       "HCV Total                     float64\n",
       "AM-Non-Peak-Hours              object\n",
       "AM-Non-Peak-Hour-Volume       float64\n",
       "Mid-Day-Non-Peak-Hour-Time    float64\n",
       "Mid-Day-Non-Peak-Volume        object\n",
       "PM-Non-Peak-Hours             float64\n",
       "PM-Non-Peak-Hour-Volume       float64\n",
       "dtype: object"
      ]
     },
     "execution_count": 20,
     "metadata": {},
     "output_type": "execute_result"
    }
   ],
   "source": [
    "df.dtypes"
   ]
  },
  {
   "cell_type": "code",
   "execution_count": 21,
   "metadata": {},
   "outputs": [],
   "source": [
    "df[\"Count_Start_Date\"]= df[\"Count_Start_Date\"].astype(str) "
   ]
  },
  {
   "cell_type": "code",
   "execution_count": null,
   "metadata": {},
   "outputs": [],
   "source": []
  },
  {
   "cell_type": "code",
   "execution_count": 22,
   "metadata": {},
   "outputs": [],
   "source": [
    "df[\"AM_Peak_Hour\"].fillna(0, inplace = True) "
   ]
  },
  {
   "cell_type": "code",
   "execution_count": 23,
   "metadata": {},
   "outputs": [],
   "source": [
    "df[\"AM_Peak_Hour\"]= df[\"AM_Peak_Hour\"].astype(int) "
   ]
  },
  {
   "cell_type": "code",
   "execution_count": 24,
   "metadata": {},
   "outputs": [
    {
     "data": {
      "text/plain": [
       "0         1216.0\n",
       "1        10026.0\n",
       "2         4079.0\n",
       "3         4182.0\n",
       "4        11563.0\n",
       "5        16768.0\n",
       "6         7526.0\n",
       "7         6885.0\n",
       "8         8212.0\n",
       "9         4727.0\n",
       "10       13173.0\n",
       "11       14265.0\n",
       "12       14611.0\n",
       "13       10754.0\n",
       "14        8686.0\n",
       "15        3039.0\n",
       "16        1639.0\n",
       "17         373.0\n",
       "18         427.0\n",
       "19         197.0\n",
       "20         288.0\n",
       "21         193.0\n",
       "22         270.0\n",
       "23        1449.0\n",
       "24         396.0\n",
       "25         711.0\n",
       "26        3137.0\n",
       "27         195.0\n",
       "28         716.0\n",
       "29         705.0\n",
       "          ...   \n",
       "12401     7710.0\n",
       "12402     7301.0\n",
       "12403     7592.0\n",
       "12404     9184.0\n",
       "12405    14626.0\n",
       "12406    11770.0\n",
       "12407     8222.0\n",
       "12408     8658.0\n",
       "12409    13622.0\n",
       "12410      849.0\n",
       "12411      563.0\n",
       "12412      666.0\n",
       "12413      646.0\n",
       "12414    15167.0\n",
       "12415    14057.0\n",
       "12416     4269.0\n",
       "12417     2924.0\n",
       "12418     2986.0\n",
       "12419     2663.0\n",
       "12420     2523.0\n",
       "12421      186.0\n",
       "12422     2142.0\n",
       "12423      136.0\n",
       "12424      959.0\n",
       "12425     1732.0\n",
       "12426      642.0\n",
       "12427     1238.0\n",
       "12428     6677.0\n",
       "12429      172.0\n",
       "12430     1080.0\n",
       "Name: Sunday_Volume, Length: 12431, dtype: float64"
      ]
     },
     "execution_count": 24,
     "metadata": {},
     "output_type": "execute_result"
    }
   ],
   "source": [
    "df.dtypes\n",
    "df['5_Day_ADT']\n",
    "df['7_Day_ADT']\n",
    "df['Saturday_Volume']\n",
    "df['Sunday_Volume']"
   ]
  },
  {
   "cell_type": "code",
   "execution_count": 25,
   "metadata": {},
   "outputs": [],
   "source": [
    "df[\"Mid_Peak_Hour\"].fillna(0, inplace = True) "
   ]
  },
  {
   "cell_type": "code",
   "execution_count": 26,
   "metadata": {},
   "outputs": [],
   "source": [
    "df[\"Mid_Peak_Hour\"]= df[\"Mid_Peak_Hour\"].astype(int) "
   ]
  },
  {
   "cell_type": "code",
   "execution_count": 27,
   "metadata": {},
   "outputs": [],
   "source": [
    "df[\"PM_Peak_Hour\"].fillna(0, inplace = True) "
   ]
  },
  {
   "cell_type": "code",
   "execution_count": 28,
   "metadata": {},
   "outputs": [],
   "source": [
    "df[\"PM_Peak_Hour\"]= df[\"PM_Peak_Hour\"].astype(int) "
   ]
  },
  {
   "cell_type": "code",
   "execution_count": null,
   "metadata": {},
   "outputs": [],
   "source": []
  },
  {
   "cell_type": "code",
   "execution_count": 29,
   "metadata": {},
   "outputs": [
    {
     "data": {
      "image/png": "[encoded data removed]",
      "text/plain": [
       "<Figure size 1080x720 with 1 Axes>"
      ]
     },
     "metadata": {},
     "output_type": "display_data"
    }
   ],
   "source": [
    "X=df['Count_Start_Date'][:100]\n",
    "Y=df['5_Day_ADT'][:100]\n",
    "plt.plot(X, Y,'bo')\n",
    "plt.xlabel('Road Name')\n",
    "plt.ylabel('Count Start Date')\n",
    "plt.title('5 Day Traffic Density')\n",
    "plt.show()"
   ]
  },
  {
   "cell_type": "code",
   "execution_count": 30,
   "metadata": {},
   "outputs": [],
   "source": [
    "from tensorflow.keras.preprocessing import sequence\n",
    "from tensorflow.keras.models import Sequential\n",
    "from tensorflow.keras.layers import Dense, Embedding\n",
    "from tensorflow.keras.layers import LSTM"
   ]
  },
  {
   "cell_type": "markdown",
   "metadata": {},
   "source": [
    "# Random Forest Forecasting"
   ]
  },
  {
   "cell_type": "code",
   "execution_count": 31,
   "metadata": {},
   "outputs": [],
   "source": [
    "training_data=df[0:10]\n",
    "test_data=df[10:20]\n",
    "val_data=df[20:30]\n",
    "clean_train=training_data[['AM_Peak_Hour','Saturday_Volume','Sunday_Volume','5_Day_ADT','7_Day_ADT']]\n",
    "clean_test=test_data[['AM_Peak_Hour','Saturday_Volume','Sunday_Volume','5_Day_ADT','7_Day_ADT']]\n",
    "clean_val=val_data[['AM_Peak_Hour','Saturday_Volume','Sunday_Volume','5_Day_ADT','7_Day_ADT']]\n"
   ]
  },
  {
   "cell_type": "code",
   "execution_count": 32,
   "metadata": {},
   "outputs": [],
   "source": [
    "from sklearn.preprocessing import StandardScaler,MinMaxScaler\n",
    "from sklearn.ensemble import RandomForestRegressor\n",
    "from sklearn.metrics import r2_score,mean_squared_error"
   ]
  },
  {
   "cell_type": "code",
   "execution_count": 33,
   "metadata": {},
   "outputs": [],
   "source": [
    "X_train,y_train = clean_train.drop([\"Saturday_Volume\"],axis=1),clean_train.Saturday_Volume\n",
    "X_test,y_test = clean_test.drop([\"Saturday_Volume\"],axis=1),clean_test.Saturday_Volume\n",
    "X_val,y_val = clean_val.drop([\"Saturday_Volume\"],axis=1),clean_val.Saturday_Volume\n"
   ]
  },
  {
   "cell_type": "code",
   "execution_count": 34,
   "metadata": {},
   "outputs": [],
   "source": [
    "scaler = StandardScaler()\n",
    "rfr  = RandomForestRegressor(random_state=98,verbose=20,n_jobs=5, max_features = \"auto\")"
   ]
  },
  {
   "cell_type": "code",
   "execution_count": 35,
   "metadata": {},
   "outputs": [],
   "source": [
    "X_train_scaled = scaler.fit_transform(X_train)\n",
    "X_test_scaled = scaler.fit_transform(X_test)\n",
    "X_val_scaled=scaler.fit_transform(X_val)\n"
   ]
  },
  {
   "cell_type": "code",
   "execution_count": 36,
   "metadata": {},
   "outputs": [
    {
     "name": "stdout",
     "output_type": "stream",
     "text": [
      "building tree 1 of 10building tree 2 of 10building tree 3 of 10\n",
      "building tree 4 of 10\n",
      "building tree 5 of 10\n",
      "\n",
      "\n",
      "building tree 6 of 10\n",
      "building tree 7 of 10\n",
      "building tree 8 of 10\n",
      "building tree 9 of 10\n",
      "building tree 10 of 10\n"
     ]
    },
    {
     "name": "stderr",
     "output_type": "stream",
     "text": [
      "[Parallel(n_jobs=5)]: Done   1 tasks      | elapsed:    0.0s\n",
      "[Parallel(n_jobs=5)]: Done   2 out of  10 | elapsed:    0.0s remaining:    0.0s\n",
      "[Parallel(n_jobs=5)]: Done   3 out of  10 | elapsed:    0.0s remaining:    0.0s\n",
      "[Parallel(n_jobs=5)]: Done   4 out of  10 | elapsed:    0.0s remaining:    0.0s\n",
      "[Parallel(n_jobs=5)]: Done   5 out of  10 | elapsed:    0.0s remaining:    0.0s\n",
      "[Parallel(n_jobs=5)]: Done   6 out of  10 | elapsed:    0.0s remaining:    0.0s\n",
      "[Parallel(n_jobs=5)]: Done   7 out of  10 | elapsed:    0.0s remaining:    0.0s\n",
      "[Parallel(n_jobs=5)]: Done   8 out of  10 | elapsed:    0.0s remaining:    0.0s\n",
      "[Parallel(n_jobs=5)]: Done  10 out of  10 | elapsed:    0.0s remaining:    0.0s\n",
      "[Parallel(n_jobs=5)]: Done  10 out of  10 | elapsed:    0.0s finished\n"
     ]
    },
    {
     "data": {
      "text/plain": [
       "RandomForestRegressor(bootstrap=True, criterion='mse', max_depth=None,\n",
       "           max_features='auto', max_leaf_nodes=None,\n",
       "           min_impurity_decrease=0.0, min_impurity_split=None,\n",
       "           min_samples_leaf=1, min_samples_split=2,\n",
       "           min_weight_fraction_leaf=0.0, n_estimators=10, n_jobs=5,\n",
       "           oob_score=False, random_state=98, verbose=20, warm_start=False)"
      ]
     },
     "execution_count": 36,
     "metadata": {},
     "output_type": "execute_result"
    }
   ],
   "source": [
    "rfr.fit(X_train_scaled,y_train)"
   ]
  },
  {
   "cell_type": "code",
   "execution_count": 37,
   "metadata": {},
   "outputs": [
    {
     "name": "stderr",
     "output_type": "stream",
     "text": [
      "[Parallel(n_jobs=5)]: Done   1 tasks      | elapsed:    0.0s\n",
      "[Parallel(n_jobs=5)]: Done   2 out of  10 | elapsed:    0.0s remaining:    0.0s\n",
      "[Parallel(n_jobs=5)]: Done   3 out of  10 | elapsed:    0.0s remaining:    0.0s\n",
      "[Parallel(n_jobs=5)]: Done   4 out of  10 | elapsed:    0.0s remaining:    0.0s\n",
      "[Parallel(n_jobs=5)]: Done   5 out of  10 | elapsed:    0.0s remaining:    0.0s\n",
      "[Parallel(n_jobs=5)]: Done   6 out of  10 | elapsed:    0.0s remaining:    0.0s\n",
      "[Parallel(n_jobs=5)]: Done   7 out of  10 | elapsed:    0.0s remaining:    0.0s\n",
      "[Parallel(n_jobs=5)]: Done   8 out of  10 | elapsed:    0.0s remaining:    0.0s\n",
      "[Parallel(n_jobs=5)]: Done  10 out of  10 | elapsed:    0.0s remaining:    0.0s\n",
      "[Parallel(n_jobs=5)]: Done  10 out of  10 | elapsed:    0.0s finished\n"
     ]
    },
    {
     "data": {
      "text/plain": [
       "-1.7310933144318217"
      ]
     },
     "execution_count": 37,
     "metadata": {},
     "output_type": "execute_result"
    }
   ],
   "source": [
    "rfr.score(X_test,y_test)"
   ]
  },
  {
   "cell_type": "code",
   "execution_count": 38,
   "metadata": {},
   "outputs": [
    {
     "name": "stderr",
     "output_type": "stream",
     "text": [
      "[Parallel(n_jobs=5)]: Done   1 tasks      | elapsed:    0.0s\n",
      "[Parallel(n_jobs=5)]: Done   2 out of  10 | elapsed:    0.0s remaining:    0.0s\n",
      "[Parallel(n_jobs=5)]: Done   3 out of  10 | elapsed:    0.0s remaining:    0.0s\n",
      "[Parallel(n_jobs=5)]: Done   4 out of  10 | elapsed:    0.0s remaining:    0.0s\n",
      "[Parallel(n_jobs=5)]: Done   5 out of  10 | elapsed:    0.0s remaining:    0.0s\n",
      "[Parallel(n_jobs=5)]: Done   6 out of  10 | elapsed:    0.0s remaining:    0.0s\n",
      "[Parallel(n_jobs=5)]: Done   7 out of  10 | elapsed:    0.0s remaining:    0.0s\n",
      "[Parallel(n_jobs=5)]: Done   8 out of  10 | elapsed:    0.0s remaining:    0.0s\n",
      "[Parallel(n_jobs=5)]: Done  10 out of  10 | elapsed:    0.0s remaining:    0.0s\n",
      "[Parallel(n_jobs=5)]: Done  10 out of  10 | elapsed:    0.0s finished\n",
      "/anaconda3/lib/python3.6/site-packages/ipykernel_launcher.py:1: SettingWithCopyWarning: \n",
      "A value is trying to be set on a copy of a slice from a DataFrame.\n",
      "Try using .loc[row_indexer,col_indexer] = value instead\n",
      "\n",
      "See the caveats in the documentation: http://pandas.pydata.org/pandas-docs/stable/indexing.html#indexing-view-versus-copy\n",
      "  \"\"\"Entry point for launching an IPython kernel.\n"
     ]
    }
   ],
   "source": [
    "test_data[\"RF_PREDICTED\"] = rfr.predict(X_test_scaled)\n"
   ]
  },
  {
   "cell_type": "code",
   "execution_count": 39,
   "metadata": {},
   "outputs": [
    {
     "data": {
      "text/html": [
       "<div>\n",
       "<style scoped>\n",
       "    .dataframe tbody tr th:only-of-type {\n",
       "        vertical-align: middle;\n",
       "    }\n",
       "\n",
       "    .dataframe tbody tr th {\n",
       "        vertical-align: top;\n",
       "    }\n",
       "\n",
       "    .dataframe thead th {\n",
       "        text-align: right;\n",
       "    }\n",
       "</style>\n",
       "<table border=\"1\" class=\"dataframe\">\n",
       "  <thead>\n",
       "    <tr style=\"text-align: right;\">\n",
       "      <th></th>\n",
       "      <th>Area</th>\n",
       "      <th>Road_Name</th>\n",
       "      <th>Carriageway_Start_Name</th>\n",
       "      <th>Carriageway_End_Name</th>\n",
       "      <th>Description</th>\n",
       "      <th>Direction</th>\n",
       "      <th>Count_Start_Date</th>\n",
       "      <th>5_Day_ADT</th>\n",
       "      <th>7_Day_ADT</th>\n",
       "      <th>Saturday_Volume</th>\n",
       "      <th>...</th>\n",
       "      <th>HCV-I</th>\n",
       "      <th>HCV-II</th>\n",
       "      <th>HCV Total</th>\n",
       "      <th>AM-Non-Peak-Hours</th>\n",
       "      <th>AM-Non-Peak-Hour-Volume</th>\n",
       "      <th>Mid-Day-Non-Peak-Hour-Time</th>\n",
       "      <th>Mid-Day-Non-Peak-Volume</th>\n",
       "      <th>PM-Non-Peak-Hours</th>\n",
       "      <th>PM-Non-Peak-Hour-Volume</th>\n",
       "      <th>RF_PREDICTED</th>\n",
       "    </tr>\n",
       "  </thead>\n",
       "  <tbody>\n",
       "    <tr>\n",
       "      <th>10</th>\n",
       "      <td>South</td>\n",
       "      <td>Massey Road</td>\n",
       "      <td>Buckland Road</td>\n",
       "      <td>Walter Street</td>\n",
       "      <td>!Massey Rd (Approx 40m west Walter St outside ...</td>\n",
       "      <td>Both</td>\n",
       "      <td>2012-07-16 00:00:00</td>\n",
       "      <td>19361.0</td>\n",
       "      <td>18349.857143</td>\n",
       "      <td>18471.0</td>\n",
       "      <td>...</td>\n",
       "      <td>0.012285</td>\n",
       "      <td>0.006501</td>\n",
       "      <td>0.043636</td>\n",
       "      <td>0910</td>\n",
       "      <td>141.0</td>\n",
       "      <td>1235.0</td>\n",
       "      <td>160</td>\n",
       "      <td>1620.0</td>\n",
       "      <td>122.0</td>\n",
       "      <td>16607.4</td>\n",
       "    </tr>\n",
       "    <tr>\n",
       "      <th>11</th>\n",
       "      <td>South</td>\n",
       "      <td>Massey Road</td>\n",
       "      <td>Imrie Avenue</td>\n",
       "      <td>Friesian Drive</td>\n",
       "      <td>!Massey Rd (Approx 15m east Tussock Ave outsid...</td>\n",
       "      <td>Both</td>\n",
       "      <td>2012-07-16 00:00:00</td>\n",
       "      <td>23384.6</td>\n",
       "      <td>21713.142857</td>\n",
       "      <td>20804.0</td>\n",
       "      <td>...</td>\n",
       "      <td>0.008599</td>\n",
       "      <td>0.003744</td>\n",
       "      <td>0.043515</td>\n",
       "      <td>0911</td>\n",
       "      <td>125.0</td>\n",
       "      <td>1241.0</td>\n",
       "      <td>149</td>\n",
       "      <td>1621.0</td>\n",
       "      <td>112.0</td>\n",
       "      <td>17148.1</td>\n",
       "    </tr>\n",
       "    <tr>\n",
       "      <th>12</th>\n",
       "      <td>South</td>\n",
       "      <td>Massey Road</td>\n",
       "      <td>Tennessee Avenue</td>\n",
       "      <td>Viola Avenue</td>\n",
       "      <td>!Massey Rd (Approx 120m east of Viola Ave outs...</td>\n",
       "      <td>Both</td>\n",
       "      <td>2012-07-16 00:00:00</td>\n",
       "      <td>22058.0</td>\n",
       "      <td>20923.857143</td>\n",
       "      <td>21566.0</td>\n",
       "      <td>...</td>\n",
       "      <td>0.005605</td>\n",
       "      <td>0.002403</td>\n",
       "      <td>0.038842</td>\n",
       "      <td>0912</td>\n",
       "      <td>105.0</td>\n",
       "      <td>1240.0</td>\n",
       "      <td>154</td>\n",
       "      <td>1619.0</td>\n",
       "      <td>153.0</td>\n",
       "      <td>16607.4</td>\n",
       "    </tr>\n",
       "    <tr>\n",
       "      <th>13</th>\n",
       "      <td>South</td>\n",
       "      <td>Massey Road</td>\n",
       "      <td>Plumley Crescent East</td>\n",
       "      <td>Thomas Road</td>\n",
       "      <td>!Massey Rd (Approx 100m east Thomas Rd outside...</td>\n",
       "      <td>Both</td>\n",
       "      <td>2012-07-16 00:00:00</td>\n",
       "      <td>17831.4</td>\n",
       "      <td>16429.142857</td>\n",
       "      <td>15093.0</td>\n",
       "      <td>...</td>\n",
       "      <td>0.008165</td>\n",
       "      <td>0.006069</td>\n",
       "      <td>0.047181</td>\n",
       "      <td>0913</td>\n",
       "      <td>91.0</td>\n",
       "      <td>1231.0</td>\n",
       "      <td>104</td>\n",
       "      <td>1618.0</td>\n",
       "      <td>156.0</td>\n",
       "      <td>14444.6</td>\n",
       "    </tr>\n",
       "    <tr>\n",
       "      <th>14</th>\n",
       "      <td>South</td>\n",
       "      <td>Mckenzie Road</td>\n",
       "      <td>Walmsley Rd-Miller Rd</td>\n",
       "      <td>Coronation Rd</td>\n",
       "      <td>!McKenzie Rd (Approx 170m north Walmsley Rd ou...</td>\n",
       "      <td>Both</td>\n",
       "      <td>2012-07-16 00:00:00</td>\n",
       "      <td>14234.6</td>\n",
       "      <td>13256.285714</td>\n",
       "      <td>12935.0</td>\n",
       "      <td>...</td>\n",
       "      <td>0.015066</td>\n",
       "      <td>0.009052</td>\n",
       "      <td>0.053506</td>\n",
       "      <td>0914</td>\n",
       "      <td>146.0</td>\n",
       "      <td>1244.0</td>\n",
       "      <td>102</td>\n",
       "      <td>1620.0</td>\n",
       "      <td>173.0</td>\n",
       "      <td>12784.9</td>\n",
       "    </tr>\n",
       "    <tr>\n",
       "      <th>15</th>\n",
       "      <td>South</td>\n",
       "      <td>Mckenzie Road</td>\n",
       "      <td>Kirkbride Rd Cemetery</td>\n",
       "      <td>Valiant St</td>\n",
       "      <td>!McKenzie Rd (Approx 380m south Valliant St-Si...</td>\n",
       "      <td>Both</td>\n",
       "      <td>2012-07-16 00:00:00</td>\n",
       "      <td>7860.0</td>\n",
       "      <td>6702.714286</td>\n",
       "      <td>4580.0</td>\n",
       "      <td>...</td>\n",
       "      <td>0.018841</td>\n",
       "      <td>0.014323</td>\n",
       "      <td>0.157292</td>\n",
       "      <td>0915</td>\n",
       "      <td>158.0</td>\n",
       "      <td>1243.0</td>\n",
       "      <td>170</td>\n",
       "      <td>1721.0</td>\n",
       "      <td>138.0</td>\n",
       "      <td>8323.5</td>\n",
       "    </tr>\n",
       "    <tr>\n",
       "      <th>16</th>\n",
       "      <td>South</td>\n",
       "      <td>Pavilion Drive</td>\n",
       "      <td>Montgomerie Rd</td>\n",
       "      <td>Penihana Pl</td>\n",
       "      <td>!Pavilion Dr (Approx 50m north Penihana Pl out...</td>\n",
       "      <td>Both</td>\n",
       "      <td>2012-07-16 00:00:00</td>\n",
       "      <td>2313.4</td>\n",
       "      <td>2018.571429</td>\n",
       "      <td>924.0</td>\n",
       "      <td>...</td>\n",
       "      <td>0.042109</td>\n",
       "      <td>0.032838</td>\n",
       "      <td>0.290800</td>\n",
       "      <td>0916</td>\n",
       "      <td>148.0</td>\n",
       "      <td>1238.0</td>\n",
       "      <td>124</td>\n",
       "      <td>1721.0</td>\n",
       "      <td>133.0</td>\n",
       "      <td>6759.8</td>\n",
       "    </tr>\n",
       "    <tr>\n",
       "      <th>17</th>\n",
       "      <td>South</td>\n",
       "      <td>Pavilion Drive</td>\n",
       "      <td>Sharp Curve Second PW16 Signs</td>\n",
       "      <td>Montgomeric-Rennie Drive Rab Start</td>\n",
       "      <td>!Pavilion Dr (Approx 210m sth Montgomerie Rd [...</td>\n",
       "      <td>Both</td>\n",
       "      <td>2012-07-16 00:00:00</td>\n",
       "      <td>1251.4</td>\n",
       "      <td>991.142857</td>\n",
       "      <td>308.0</td>\n",
       "      <td>...</td>\n",
       "      <td>0.028683</td>\n",
       "      <td>0.019746</td>\n",
       "      <td>0.226002</td>\n",
       "      <td>0917</td>\n",
       "      <td>137.0</td>\n",
       "      <td>1237.0</td>\n",
       "      <td>169</td>\n",
       "      <td>1730.0</td>\n",
       "      <td>165.0</td>\n",
       "      <td>5519.5</td>\n",
       "    </tr>\n",
       "    <tr>\n",
       "      <th>18</th>\n",
       "      <td>Central</td>\n",
       "      <td>Edmonton Ave</td>\n",
       "      <td>Gambia Pl</td>\n",
       "      <td>State Ave</td>\n",
       "      <td>Edmonton Ave-Gambia twd State [50] os# 53</td>\n",
       "      <td>Both</td>\n",
       "      <td>2012-07-18 00:00:00</td>\n",
       "      <td>567.8</td>\n",
       "      <td>546.714286</td>\n",
       "      <td>561.0</td>\n",
       "      <td>...</td>\n",
       "      <td>0.000784</td>\n",
       "      <td>0.000000</td>\n",
       "      <td>0.022211</td>\n",
       "      <td>0918</td>\n",
       "      <td>96.0</td>\n",
       "      <td>1245.0</td>\n",
       "      <td>179</td>\n",
       "      <td>1701.0</td>\n",
       "      <td>122.0</td>\n",
       "      <td>5526.9</td>\n",
       "    </tr>\n",
       "    <tr>\n",
       "      <th>19</th>\n",
       "      <td>Central</td>\n",
       "      <td>Houpara Street</td>\n",
       "      <td>Oranga Ave</td>\n",
       "      <td>Rangipawa Rd</td>\n",
       "      <td>Houpara St-Oranga twd Rangipawa [50] os# 14a</td>\n",
       "      <td>Both</td>\n",
       "      <td>2012-07-18 00:00:00</td>\n",
       "      <td>353.6</td>\n",
       "      <td>314.857143</td>\n",
       "      <td>239.0</td>\n",
       "      <td>...</td>\n",
       "      <td>0.002722</td>\n",
       "      <td>0.000000</td>\n",
       "      <td>0.014519</td>\n",
       "      <td>0919</td>\n",
       "      <td>126.0</td>\n",
       "      <td>1234.0</td>\n",
       "      <td>101</td>\n",
       "      <td>1727.0</td>\n",
       "      <td>107.0</td>\n",
       "      <td>6759.8</td>\n",
       "    </tr>\n",
       "  </tbody>\n",
       "</table>\n",
       "<p>10 rows × 30 columns</p>\n",
       "</div>"
      ],
      "text/plain": [
       "       Area       Road_Name         Carriageway_Start_Name  \\\n",
       "10    South     Massey Road                  Buckland Road   \n",
       "11    South     Massey Road                   Imrie Avenue   \n",
       "12    South     Massey Road               Tennessee Avenue   \n",
       "13    South     Massey Road          Plumley Crescent East   \n",
       "14    South   Mckenzie Road          Walmsley Rd-Miller Rd   \n",
       "15    South   Mckenzie Road          Kirkbride Rd Cemetery   \n",
       "16    South  Pavilion Drive                 Montgomerie Rd   \n",
       "17    South  Pavilion Drive  Sharp Curve Second PW16 Signs   \n",
       "18  Central    Edmonton Ave                      Gambia Pl   \n",
       "19  Central  Houpara Street                     Oranga Ave   \n",
       "\n",
       "                  Carriageway_End_Name  \\\n",
       "10                       Walter Street   \n",
       "11                      Friesian Drive   \n",
       "12                        Viola Avenue   \n",
       "13                         Thomas Road   \n",
       "14                       Coronation Rd   \n",
       "15                          Valiant St   \n",
       "16                         Penihana Pl   \n",
       "17  Montgomeric-Rennie Drive Rab Start   \n",
       "18                           State Ave   \n",
       "19                        Rangipawa Rd   \n",
       "\n",
       "                                          Description Direction  \\\n",
       "10  !Massey Rd (Approx 40m west Walter St outside ...      Both   \n",
       "11  !Massey Rd (Approx 15m east Tussock Ave outsid...      Both   \n",
       "12  !Massey Rd (Approx 120m east of Viola Ave outs...      Both   \n",
       "13  !Massey Rd (Approx 100m east Thomas Rd outside...      Both   \n",
       "14  !McKenzie Rd (Approx 170m north Walmsley Rd ou...      Both   \n",
       "15  !McKenzie Rd (Approx 380m south Valliant St-Si...      Both   \n",
       "16  !Pavilion Dr (Approx 50m north Penihana Pl out...      Both   \n",
       "17  !Pavilion Dr (Approx 210m sth Montgomerie Rd [...      Both   \n",
       "18          Edmonton Ave-Gambia twd State [50] os# 53      Both   \n",
       "19       Houpara St-Oranga twd Rangipawa [50] os# 14a      Both   \n",
       "\n",
       "       Count_Start_Date  5_Day_ADT     7_Day_ADT  Saturday_Volume  \\\n",
       "10  2012-07-16 00:00:00    19361.0  18349.857143          18471.0   \n",
       "11  2012-07-16 00:00:00    23384.6  21713.142857          20804.0   \n",
       "12  2012-07-16 00:00:00    22058.0  20923.857143          21566.0   \n",
       "13  2012-07-16 00:00:00    17831.4  16429.142857          15093.0   \n",
       "14  2012-07-16 00:00:00    14234.6  13256.285714          12935.0   \n",
       "15  2012-07-16 00:00:00     7860.0   6702.714286           4580.0   \n",
       "16  2012-07-16 00:00:00     2313.4   2018.571429            924.0   \n",
       "17  2012-07-16 00:00:00     1251.4    991.142857            308.0   \n",
       "18  2012-07-18 00:00:00      567.8    546.714286            561.0   \n",
       "19  2012-07-18 00:00:00      353.6    314.857143            239.0   \n",
       "\n",
       "        ...          HCV-I    HCV-II  HCV Total  AM-Non-Peak-Hours  \\\n",
       "10      ...       0.012285  0.006501   0.043636               0910   \n",
       "11      ...       0.008599  0.003744   0.043515               0911   \n",
       "12      ...       0.005605  0.002403   0.038842               0912   \n",
       "13      ...       0.008165  0.006069   0.047181               0913   \n",
       "14      ...       0.015066  0.009052   0.053506               0914   \n",
       "15      ...       0.018841  0.014323   0.157292               0915   \n",
       "16      ...       0.042109  0.032838   0.290800               0916   \n",
       "17      ...       0.028683  0.019746   0.226002               0917   \n",
       "18      ...       0.000784  0.000000   0.022211               0918   \n",
       "19      ...       0.002722  0.000000   0.014519               0919   \n",
       "\n",
       "    AM-Non-Peak-Hour-Volume  Mid-Day-Non-Peak-Hour-Time  \\\n",
       "10                    141.0                      1235.0   \n",
       "11                    125.0                      1241.0   \n",
       "12                    105.0                      1240.0   \n",
       "13                     91.0                      1231.0   \n",
       "14                    146.0                      1244.0   \n",
       "15                    158.0                      1243.0   \n",
       "16                    148.0                      1238.0   \n",
       "17                    137.0                      1237.0   \n",
       "18                     96.0                      1245.0   \n",
       "19                    126.0                      1234.0   \n",
       "\n",
       "    Mid-Day-Non-Peak-Volume  PM-Non-Peak-Hours  PM-Non-Peak-Hour-Volume  \\\n",
       "10                      160             1620.0                    122.0   \n",
       "11                      149             1621.0                    112.0   \n",
       "12                      154             1619.0                    153.0   \n",
       "13                      104             1618.0                    156.0   \n",
       "14                      102             1620.0                    173.0   \n",
       "15                      170             1721.0                    138.0   \n",
       "16                      124             1721.0                    133.0   \n",
       "17                      169             1730.0                    165.0   \n",
       "18                      179             1701.0                    122.0   \n",
       "19                      101             1727.0                    107.0   \n",
       "\n",
       "    RF_PREDICTED  \n",
       "10       16607.4  \n",
       "11       17148.1  \n",
       "12       16607.4  \n",
       "13       14444.6  \n",
       "14       12784.9  \n",
       "15        8323.5  \n",
       "16        6759.8  \n",
       "17        5519.5  \n",
       "18        5526.9  \n",
       "19        6759.8  \n",
       "\n",
       "[10 rows x 30 columns]"
      ]
     },
     "execution_count": 39,
     "metadata": {},
     "output_type": "execute_result"
    }
   ],
   "source": [
    "test_data\n"
   ]
  },
  {
   "cell_type": "markdown",
   "metadata": {},
   "source": [
    "# ARIMA"
   ]
  },
  {
   "cell_type": "code",
   "execution_count": null,
   "metadata": {},
   "outputs": [],
   "source": []
  },
  {
   "cell_type": "markdown",
   "metadata": {},
   "source": [
    "# LSTM "
   ]
  },
  {
   "cell_type": "code",
   "execution_count": 40,
   "metadata": {},
   "outputs": [],
   "source": [
    "X_t_reshaped = X_train_scaled.reshape((X_train_scaled.shape[0], 1, X_train_scaled.shape[1]))\n",
    "\n",
    "X_val_resaped = X_val_scaled.reshape((X_val_scaled.shape[0], 1, X_val_scaled.shape[1]))\n"
   ]
  },
  {
   "cell_type": "code",
   "execution_count": 41,
   "metadata": {},
   "outputs": [
    {
     "name": "stdout",
     "output_type": "stream",
     "text": [
      "WARNING:tensorflow:From /anaconda3/lib/python3.6/site-packages/tensorflow/python/ops/resource_variable_ops.py:435: colocate_with (from tensorflow.python.framework.ops) is deprecated and will be removed in a future version.\n",
      "Instructions for updating:\n",
      "Colocations handled automatically by placer.\n",
      "WARNING:tensorflow:From /anaconda3/lib/python3.6/site-packages/tensorflow/python/keras/backend.py:4010: calling dropout (from tensorflow.python.ops.nn_ops) with keep_prob is deprecated and will be removed in a future version.\n",
      "Instructions for updating:\n",
      "Please use `rate` instead of `keep_prob`. Rate should be set to `rate = 1 - keep_prob`.\n"
     ]
    }
   ],
   "source": [
    "model = Sequential()\n",
    "model.add(Embedding(20000, 128))\n",
    "model.add(LSTM(128, dropout=0.2, recurrent_dropout=0.2))\n",
    "model.add(Dense(1, activation='sigmoid'))"
   ]
  },
  {
   "cell_type": "code",
   "execution_count": 42,
   "metadata": {},
   "outputs": [
    {
     "ename": "NameError",
     "evalue": "name 'Flatten' is not defined",
     "output_type": "error",
     "traceback": [
      "\u001b[0;31m---------------------------------------------------------------------------\u001b[0m",
      "\u001b[0;31mNameError\u001b[0m                                 Traceback (most recent call last)",
      "\u001b[0;32m<ipython-input-42-1518e170b559>\u001b[0m in \u001b[0;36m<module>\u001b[0;34m()\u001b[0m\n\u001b[1;32m      1\u001b[0m \u001b[0;34m\u001b[0m\u001b[0m\n\u001b[0;32m----> 2\u001b[0;31m \u001b[0mmodel\u001b[0m\u001b[0;34m.\u001b[0m\u001b[0madd\u001b[0m\u001b[0;34m(\u001b[0m\u001b[0mFlatten\u001b[0m\u001b[0;34m(\u001b[0m\u001b[0;34m)\u001b[0m\u001b[0;34m)\u001b[0m\u001b[0;34m\u001b[0m\u001b[0m\n\u001b[0m",
      "\u001b[0;31mNameError\u001b[0m: name 'Flatten' is not defined"
     ]
    }
   ],
   "source": [
    "\n",
    "model.add(Flatten())"
   ]
  },
  {
   "cell_type": "code",
   "execution_count": null,
   "metadata": {},
   "outputs": [],
   "source": [
    "model.compile(loss='mean_squared_error',\n",
    "              optimizer='adam',\n",
    "              metrics=['accuracy'])"
   ]
  },
  {
   "cell_type": "code",
   "execution_count": null,
   "metadata": {},
   "outputs": [],
   "source": [
    "model.fit(X_t_reshaped, X_t_reshaped,\n",
    "          batch_size=32,\n",
    "          epochs=15,\n",
    "          verbose=2,\n",
    "          validation_data=(X_val_resaped, y_val))"
   ]
  },
  {
   "cell_type": "markdown",
   "metadata": {},
   "source": [
    "# Visualisation"
   ]
  },
  {
   "cell_type": "code",
   "execution_count": null,
   "metadata": {},
   "outputs": [],
   "source": []
  },
  {
   "cell_type": "code",
   "execution_count": null,
   "metadata": {},
   "outputs": [],
   "source": [
    "x=test_data['Road_Name']\n",
    "y1=test_data['Saturday_Volume']\n",
    "y2=test_data['RF_PREDICTED']\n"
   ]
  },
  {
   "cell_type": "code",
   "execution_count": null,
   "metadata": {},
   "outputs": [],
   "source": [
    "y2"
   ]
  },
  {
   "cell_type": "code",
   "execution_count": null,
   "metadata": {},
   "outputs": [],
   "source": []
  },
  {
   "cell_type": "code",
   "execution_count": null,
   "metadata": {},
   "outputs": [],
   "source": [
    "X=df['Road_Name'][:100]\n",
    "Y=df['7_Day_ADT'][:100]\n",
    "plt.plot(X, Y, 'bo')\n",
    "plt.xlabel('Road Name')\n",
    "plt.ylabel('7 Day Average Traffic Density')\n",
    "plt.title('Weekly Traffic Density')\n",
    "plt.show()"
   ]
  },
  {
   "cell_type": "code",
   "execution_count": null,
   "metadata": {},
   "outputs": [],
   "source": []
  },
  {
   "cell_type": "code",
   "execution_count": null,
   "metadata": {},
   "outputs": [],
   "source": [
    "X=df['Road_Name'][:100]\n",
    "Y=df['Saturday_Volume'][:100]\n",
    "plt.plot(X, Y, 'bo')\n",
    "plt.xlabel('Road Name')\n",
    "plt.ylabel('Saturday Volume')\n",
    "plt.title('Saturday Traffic Volume')\n",
    "plt.show()"
   ]
  },
  {
   "cell_type": "code",
   "execution_count": null,
   "metadata": {},
   "outputs": [],
   "source": [
    "X=df['Road_Name'][:100]\n",
    "Y=df['Sunday_Volume'][:100]\n",
    "plt.plot(X, Y, 'bo')\n",
    "plt.xlabel('Road Name')\n",
    "plt.ylabel('Sunday Volume')\n",
    "plt.title('Sunday Traffic Volume')\n",
    "plt.show()"
   ]
  },
  {
   "cell_type": "code",
   "execution_count": null,
   "metadata": {},
   "outputs": [],
   "source": [
    "X=df['AM_Peak_Hour'][:100]\n",
    "Y=df['AM_Peak_Volume'][:100]\n",
    "plt.plot(X, Y, 'bo')\n",
    "plt.xlabel('AM Peak Hour')\n",
    "plt.ylabel('AM Peak Volume')\n",
    "plt.title('Morning Traffic')\n",
    "plt.show()"
   ]
  },
  {
   "cell_type": "code",
   "execution_count": null,
   "metadata": {},
   "outputs": [],
   "source": [
    "X=df['Mid_Peak_Hour'][:100]\n",
    "Y=df['Mid_Peak_Volume'][:100]\n",
    "plt.plot(X, Y, color='g')\n",
    "plt.xlabel('Mid-Day Peak Hour')\n",
    "plt.ylabel('Mid-Day Peak Volume')\n",
    "plt.title('Mid-Day Traffic')\n",
    "plt.show()"
   ]
  },
  {
   "cell_type": "code",
   "execution_count": null,
   "metadata": {},
   "outputs": [],
   "source": [
    "X=df['PM_Peak_Hour'][:100]\n",
    "Y=df['PM_Peak_Volume'][:100]\n",
    "plt.plot(X, Y, color='g')\n",
    "plt.xlabel('PM Peak Hour')\n",
    "plt.ylabel('PM Peak Volume')\n",
    "plt.title('Evening Traffic')\n",
    "plt.show()"
   ]
  },
  {
   "cell_type": "code",
   "execution_count": null,
   "metadata": {},
   "outputs": [],
   "source": []
  }
 ],
 "metadata": {
  "kernelspec": {
   "display_name": "Python 3",
   "language": "python",
   "name": "python3"
  },
  "language_info": {
   "codemirror_mode": {
    "name": "ipython",
    "version": 3
   },
   "file_extension": ".py",
   "mimetype": "text/x-python",
   "name": "python",
   "nbconvert_exporter": "python",
   "pygments_lexer": "ipython3",
   "version": "3.6.5"
  }
 },
 "nbformat": 4,
 "nbformat_minor": 2
}
